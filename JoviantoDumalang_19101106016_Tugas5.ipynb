{
 "cells": [
  {
   "cell_type": "code",
   "execution_count": 1,
   "metadata": {},
   "outputs": [
    {
     "data": {
      "text/html": [
       "<script>\n",
       "code_show=true; \n",
       "function code_toggle() {\n",
       " if (code_show){\n",
       " $('div.input').hide();\n",
       " } else {\n",
       " $('div.input').show();\n",
       " }\n",
       " code_show = !code_show\n",
       "} \n",
       "$( document ).ready(code_toggle);\n",
       "</script>\n",
       "<form action=\"javascript:code_toggle()\"><input type=\"submit\" value=\"Click here to toggle on/off the raw code.\"></form>"
      ],
      "text/plain": [
       "<IPython.core.display.HTML object>"
      ]
     },
     "execution_count": 1,
     "metadata": {},
     "output_type": "execute_result"
    }
   ],
   "source": [
    "from IPython.display import HTML\n",
    "\n",
    "HTML('''<script>\n",
    "code_show=true; \n",
    "function code_toggle() {\n",
    " if (code_show){\n",
    " $('div.input').hide();\n",
    " } else {\n",
    " $('div.input').show();\n",
    " }\n",
    " code_show = !code_show\n",
    "} \n",
    "$( document ).ready(code_toggle);\n",
    "</script>\n",
    "<form action=\"javascript:code_toggle()\"><input type=\"submit\" value=\"Click here to toggle on/off the raw code.\"></form>''')"
   ]
  },
  {
   "cell_type": "markdown",
   "metadata": {},
   "source": [
    "# Presentasi Tugas 5"
   ]
  },
  {
   "cell_type": "code",
   "execution_count": 3,
   "metadata": {},
   "outputs": [],
   "source": [
    "#Memasukkan library yang akan digunakan\n",
    "import pandas as pd\n",
    "import seaborn as sns\n",
    "import matplotlib.pyplot as plt\n",
    "import numpy as np\n",
    "data = pd.read_csv('Kelompok10.csv')"
   ]
  },
  {
   "cell_type": "markdown",
   "metadata": {},
   "source": [
    "#### Menampilkan Data Responden"
   ]
  },
  {
   "cell_type": "code",
   "execution_count": 4,
   "metadata": {},
   "outputs": [
    {
     "data": {
      "text/html": [
       "<div>\n",
       "<style scoped>\n",
       "    .dataframe tbody tr th:only-of-type {\n",
       "        vertical-align: middle;\n",
       "    }\n",
       "\n",
       "    .dataframe tbody tr th {\n",
       "        vertical-align: top;\n",
       "    }\n",
       "\n",
       "    .dataframe thead th {\n",
       "        text-align: right;\n",
       "    }\n",
       "</style>\n",
       "<table border=\"1\" class=\"dataframe\">\n",
       "  <thead>\n",
       "    <tr style=\"text-align: right;\">\n",
       "      <th></th>\n",
       "      <th>Unnamed: 0</th>\n",
       "      <th>Q1</th>\n",
       "      <th>Q2</th>\n",
       "      <th>Q3</th>\n",
       "      <th>Q4</th>\n",
       "      <th>Q5</th>\n",
       "      <th>Q6</th>\n",
       "      <th>Q7</th>\n",
       "      <th>Q8</th>\n",
       "      <th>Q9</th>\n",
       "      <th>Q10</th>\n",
       "    </tr>\n",
       "  </thead>\n",
       "  <tbody>\n",
       "    <tr>\n",
       "      <th>0</th>\n",
       "      <td>Responden 1</td>\n",
       "      <td>4</td>\n",
       "      <td>4</td>\n",
       "      <td>4</td>\n",
       "      <td>4</td>\n",
       "      <td>4</td>\n",
       "      <td>4</td>\n",
       "      <td>4</td>\n",
       "      <td>4</td>\n",
       "      <td>4</td>\n",
       "      <td>4</td>\n",
       "    </tr>\n",
       "    <tr>\n",
       "      <th>1</th>\n",
       "      <td>Responden 2</td>\n",
       "      <td>4</td>\n",
       "      <td>4</td>\n",
       "      <td>4</td>\n",
       "      <td>4</td>\n",
       "      <td>4</td>\n",
       "      <td>4</td>\n",
       "      <td>4</td>\n",
       "      <td>4</td>\n",
       "      <td>4</td>\n",
       "      <td>4</td>\n",
       "    </tr>\n",
       "    <tr>\n",
       "      <th>2</th>\n",
       "      <td>Responden 3</td>\n",
       "      <td>5</td>\n",
       "      <td>5</td>\n",
       "      <td>5</td>\n",
       "      <td>4</td>\n",
       "      <td>4</td>\n",
       "      <td>4</td>\n",
       "      <td>3</td>\n",
       "      <td>3</td>\n",
       "      <td>4</td>\n",
       "      <td>4</td>\n",
       "    </tr>\n",
       "    <tr>\n",
       "      <th>3</th>\n",
       "      <td>Responden 4</td>\n",
       "      <td>5</td>\n",
       "      <td>4</td>\n",
       "      <td>3</td>\n",
       "      <td>4</td>\n",
       "      <td>4</td>\n",
       "      <td>5</td>\n",
       "      <td>3</td>\n",
       "      <td>3</td>\n",
       "      <td>4</td>\n",
       "      <td>3</td>\n",
       "    </tr>\n",
       "    <tr>\n",
       "      <th>4</th>\n",
       "      <td>Responden 5</td>\n",
       "      <td>5</td>\n",
       "      <td>4</td>\n",
       "      <td>4</td>\n",
       "      <td>4</td>\n",
       "      <td>4</td>\n",
       "      <td>4</td>\n",
       "      <td>4</td>\n",
       "      <td>4</td>\n",
       "      <td>4</td>\n",
       "      <td>4</td>\n",
       "    </tr>\n",
       "    <tr>\n",
       "      <th>...</th>\n",
       "      <td>...</td>\n",
       "      <td>...</td>\n",
       "      <td>...</td>\n",
       "      <td>...</td>\n",
       "      <td>...</td>\n",
       "      <td>...</td>\n",
       "      <td>...</td>\n",
       "      <td>...</td>\n",
       "      <td>...</td>\n",
       "      <td>...</td>\n",
       "      <td>...</td>\n",
       "    </tr>\n",
       "    <tr>\n",
       "      <th>495</th>\n",
       "      <td>Responden 496</td>\n",
       "      <td>4</td>\n",
       "      <td>4</td>\n",
       "      <td>5</td>\n",
       "      <td>3</td>\n",
       "      <td>4</td>\n",
       "      <td>3</td>\n",
       "      <td>3</td>\n",
       "      <td>4</td>\n",
       "      <td>4</td>\n",
       "      <td>3</td>\n",
       "    </tr>\n",
       "    <tr>\n",
       "      <th>496</th>\n",
       "      <td>Responden 497</td>\n",
       "      <td>4</td>\n",
       "      <td>4</td>\n",
       "      <td>4</td>\n",
       "      <td>4</td>\n",
       "      <td>4</td>\n",
       "      <td>4</td>\n",
       "      <td>4</td>\n",
       "      <td>4</td>\n",
       "      <td>4</td>\n",
       "      <td>4</td>\n",
       "    </tr>\n",
       "    <tr>\n",
       "      <th>497</th>\n",
       "      <td>Responden 498</td>\n",
       "      <td>4</td>\n",
       "      <td>3</td>\n",
       "      <td>3</td>\n",
       "      <td>5</td>\n",
       "      <td>5</td>\n",
       "      <td>4</td>\n",
       "      <td>2</td>\n",
       "      <td>4</td>\n",
       "      <td>4</td>\n",
       "      <td>4</td>\n",
       "    </tr>\n",
       "    <tr>\n",
       "      <th>498</th>\n",
       "      <td>Responden 499</td>\n",
       "      <td>5</td>\n",
       "      <td>5</td>\n",
       "      <td>5</td>\n",
       "      <td>5</td>\n",
       "      <td>5</td>\n",
       "      <td>5</td>\n",
       "      <td>5</td>\n",
       "      <td>5</td>\n",
       "      <td>5</td>\n",
       "      <td>5</td>\n",
       "    </tr>\n",
       "    <tr>\n",
       "      <th>499</th>\n",
       "      <td>Responden 500</td>\n",
       "      <td>4</td>\n",
       "      <td>4</td>\n",
       "      <td>5</td>\n",
       "      <td>3</td>\n",
       "      <td>4</td>\n",
       "      <td>3</td>\n",
       "      <td>3</td>\n",
       "      <td>4</td>\n",
       "      <td>4</td>\n",
       "      <td>3</td>\n",
       "    </tr>\n",
       "  </tbody>\n",
       "</table>\n",
       "<p>500 rows × 11 columns</p>\n",
       "</div>"
      ],
      "text/plain": [
       "        Unnamed: 0  Q1  Q2  Q3  Q4  Q5  Q6  Q7  Q8  Q9  Q10\n",
       "0      Responden 1   4   4   4   4   4   4   4   4   4    4\n",
       "1      Responden 2   4   4   4   4   4   4   4   4   4    4\n",
       "2      Responden 3   5   5   5   4   4   4   3   3   4    4\n",
       "3      Responden 4   5   4   3   4   4   5   3   3   4    3\n",
       "4      Responden 5   5   4   4   4   4   4   4   4   4    4\n",
       "..             ...  ..  ..  ..  ..  ..  ..  ..  ..  ..  ...\n",
       "495  Responden 496   4   4   5   3   4   3   3   4   4    3\n",
       "496  Responden 497   4   4   4   4   4   4   4   4   4    4\n",
       "497  Responden 498   4   3   3   5   5   4   2   4   4    4\n",
       "498  Responden 499   5   5   5   5   5   5   5   5   5    5\n",
       "499  Responden 500   4   4   5   3   4   3   3   4   4    3\n",
       "\n",
       "[500 rows x 11 columns]"
      ]
     },
     "execution_count": 4,
     "metadata": {},
     "output_type": "execute_result"
    }
   ],
   "source": [
    "#menampilkan data responden\n",
    "data"
   ]
  },
  {
   "cell_type": "markdown",
   "metadata": {},
   "source": [
    "#### Perhitungan Data Q1 sampai Q10"
   ]
  },
  {
   "cell_type": "code",
   "execution_count": 5,
   "metadata": {},
   "outputs": [
    {
     "data": {
      "text/html": [
       "<div>\n",
       "<style scoped>\n",
       "    .dataframe tbody tr th:only-of-type {\n",
       "        vertical-align: middle;\n",
       "    }\n",
       "\n",
       "    .dataframe tbody tr th {\n",
       "        vertical-align: top;\n",
       "    }\n",
       "\n",
       "    .dataframe thead th {\n",
       "        text-align: right;\n",
       "    }\n",
       "</style>\n",
       "<table border=\"1\" class=\"dataframe\">\n",
       "  <thead>\n",
       "    <tr style=\"text-align: right;\">\n",
       "      <th></th>\n",
       "      <th>Q1</th>\n",
       "      <th>Q2</th>\n",
       "      <th>Q3</th>\n",
       "      <th>Q4</th>\n",
       "      <th>Q5</th>\n",
       "      <th>Q6</th>\n",
       "      <th>Q7</th>\n",
       "      <th>Q8</th>\n",
       "      <th>Q9</th>\n",
       "      <th>Q10</th>\n",
       "    </tr>\n",
       "  </thead>\n",
       "  <tbody>\n",
       "    <tr>\n",
       "      <th>count</th>\n",
       "      <td>500.000000</td>\n",
       "      <td>500.000000</td>\n",
       "      <td>500.000000</td>\n",
       "      <td>500.000000</td>\n",
       "      <td>500.000000</td>\n",
       "      <td>500.000000</td>\n",
       "      <td>500.000000</td>\n",
       "      <td>500.000000</td>\n",
       "      <td>500.000000</td>\n",
       "      <td>500.00000</td>\n",
       "    </tr>\n",
       "    <tr>\n",
       "      <th>mean</th>\n",
       "      <td>4.292000</td>\n",
       "      <td>4.330000</td>\n",
       "      <td>4.244000</td>\n",
       "      <td>3.860000</td>\n",
       "      <td>3.982000</td>\n",
       "      <td>3.674000</td>\n",
       "      <td>3.496000</td>\n",
       "      <td>3.784000</td>\n",
       "      <td>3.954000</td>\n",
       "      <td>4.10800</td>\n",
       "    </tr>\n",
       "    <tr>\n",
       "      <th>std</th>\n",
       "      <td>0.789927</td>\n",
       "      <td>0.725364</td>\n",
       "      <td>0.705308</td>\n",
       "      <td>0.849614</td>\n",
       "      <td>0.814249</td>\n",
       "      <td>1.057336</td>\n",
       "      <td>1.079033</td>\n",
       "      <td>0.915981</td>\n",
       "      <td>0.803227</td>\n",
       "      <td>0.69664</td>\n",
       "    </tr>\n",
       "    <tr>\n",
       "      <th>min</th>\n",
       "      <td>1.000000</td>\n",
       "      <td>1.000000</td>\n",
       "      <td>1.000000</td>\n",
       "      <td>1.000000</td>\n",
       "      <td>1.000000</td>\n",
       "      <td>1.000000</td>\n",
       "      <td>1.000000</td>\n",
       "      <td>1.000000</td>\n",
       "      <td>1.000000</td>\n",
       "      <td>1.00000</td>\n",
       "    </tr>\n",
       "    <tr>\n",
       "      <th>25%</th>\n",
       "      <td>4.000000</td>\n",
       "      <td>4.000000</td>\n",
       "      <td>4.000000</td>\n",
       "      <td>4.000000</td>\n",
       "      <td>4.000000</td>\n",
       "      <td>3.000000</td>\n",
       "      <td>3.000000</td>\n",
       "      <td>3.000000</td>\n",
       "      <td>4.000000</td>\n",
       "      <td>4.00000</td>\n",
       "    </tr>\n",
       "    <tr>\n",
       "      <th>50%</th>\n",
       "      <td>4.000000</td>\n",
       "      <td>4.000000</td>\n",
       "      <td>4.000000</td>\n",
       "      <td>4.000000</td>\n",
       "      <td>4.000000</td>\n",
       "      <td>4.000000</td>\n",
       "      <td>4.000000</td>\n",
       "      <td>4.000000</td>\n",
       "      <td>4.000000</td>\n",
       "      <td>4.00000</td>\n",
       "    </tr>\n",
       "    <tr>\n",
       "      <th>75%</th>\n",
       "      <td>5.000000</td>\n",
       "      <td>5.000000</td>\n",
       "      <td>5.000000</td>\n",
       "      <td>4.000000</td>\n",
       "      <td>4.000000</td>\n",
       "      <td>4.000000</td>\n",
       "      <td>4.000000</td>\n",
       "      <td>4.000000</td>\n",
       "      <td>4.000000</td>\n",
       "      <td>4.00000</td>\n",
       "    </tr>\n",
       "    <tr>\n",
       "      <th>max</th>\n",
       "      <td>5.000000</td>\n",
       "      <td>5.000000</td>\n",
       "      <td>5.000000</td>\n",
       "      <td>5.000000</td>\n",
       "      <td>5.000000</td>\n",
       "      <td>5.000000</td>\n",
       "      <td>5.000000</td>\n",
       "      <td>5.000000</td>\n",
       "      <td>5.000000</td>\n",
       "      <td>5.00000</td>\n",
       "    </tr>\n",
       "  </tbody>\n",
       "</table>\n",
       "</div>"
      ],
      "text/plain": [
       "               Q1          Q2          Q3          Q4          Q5          Q6  \\\n",
       "count  500.000000  500.000000  500.000000  500.000000  500.000000  500.000000   \n",
       "mean     4.292000    4.330000    4.244000    3.860000    3.982000    3.674000   \n",
       "std      0.789927    0.725364    0.705308    0.849614    0.814249    1.057336   \n",
       "min      1.000000    1.000000    1.000000    1.000000    1.000000    1.000000   \n",
       "25%      4.000000    4.000000    4.000000    4.000000    4.000000    3.000000   \n",
       "50%      4.000000    4.000000    4.000000    4.000000    4.000000    4.000000   \n",
       "75%      5.000000    5.000000    5.000000    4.000000    4.000000    4.000000   \n",
       "max      5.000000    5.000000    5.000000    5.000000    5.000000    5.000000   \n",
       "\n",
       "               Q7          Q8          Q9        Q10  \n",
       "count  500.000000  500.000000  500.000000  500.00000  \n",
       "mean     3.496000    3.784000    3.954000    4.10800  \n",
       "std      1.079033    0.915981    0.803227    0.69664  \n",
       "min      1.000000    1.000000    1.000000    1.00000  \n",
       "25%      3.000000    3.000000    4.000000    4.00000  \n",
       "50%      4.000000    4.000000    4.000000    4.00000  \n",
       "75%      4.000000    4.000000    4.000000    4.00000  \n",
       "max      5.000000    5.000000    5.000000    5.00000  "
      ]
     },
     "execution_count": 5,
     "metadata": {},
     "output_type": "execute_result"
    }
   ],
   "source": [
    "data.describe()"
   ]
  },
  {
   "cell_type": "markdown",
   "metadata": {},
   "source": [
    "#### Data Korelasi"
   ]
  },
  {
   "cell_type": "code",
   "execution_count": 6,
   "metadata": {},
   "outputs": [
    {
     "data": {
      "text/html": [
       "<div>\n",
       "<style scoped>\n",
       "    .dataframe tbody tr th:only-of-type {\n",
       "        vertical-align: middle;\n",
       "    }\n",
       "\n",
       "    .dataframe tbody tr th {\n",
       "        vertical-align: top;\n",
       "    }\n",
       "\n",
       "    .dataframe thead th {\n",
       "        text-align: right;\n",
       "    }\n",
       "</style>\n",
       "<table border=\"1\" class=\"dataframe\">\n",
       "  <thead>\n",
       "    <tr style=\"text-align: right;\">\n",
       "      <th></th>\n",
       "      <th>Q1</th>\n",
       "      <th>Q2</th>\n",
       "      <th>Q3</th>\n",
       "      <th>Q4</th>\n",
       "      <th>Q5</th>\n",
       "      <th>Q6</th>\n",
       "      <th>Q7</th>\n",
       "      <th>Q8</th>\n",
       "      <th>Q9</th>\n",
       "      <th>Q10</th>\n",
       "    </tr>\n",
       "  </thead>\n",
       "  <tbody>\n",
       "    <tr>\n",
       "      <th>Q1</th>\n",
       "      <td>1.000000</td>\n",
       "      <td>0.405080</td>\n",
       "      <td>0.425792</td>\n",
       "      <td>0.452201</td>\n",
       "      <td>0.469311</td>\n",
       "      <td>0.406926</td>\n",
       "      <td>0.478654</td>\n",
       "      <td>0.386467</td>\n",
       "      <td>0.378117</td>\n",
       "      <td>0.492475</td>\n",
       "    </tr>\n",
       "    <tr>\n",
       "      <th>Q2</th>\n",
       "      <td>0.405080</td>\n",
       "      <td>1.000000</td>\n",
       "      <td>0.649221</td>\n",
       "      <td>0.468583</td>\n",
       "      <td>0.468135</td>\n",
       "      <td>0.263359</td>\n",
       "      <td>0.381910</td>\n",
       "      <td>0.333710</td>\n",
       "      <td>0.490449</td>\n",
       "      <td>0.432991</td>\n",
       "    </tr>\n",
       "    <tr>\n",
       "      <th>Q3</th>\n",
       "      <td>0.425792</td>\n",
       "      <td>0.649221</td>\n",
       "      <td>1.000000</td>\n",
       "      <td>0.471807</td>\n",
       "      <td>0.499683</td>\n",
       "      <td>0.348730</td>\n",
       "      <td>0.383101</td>\n",
       "      <td>0.441568</td>\n",
       "      <td>0.444338</td>\n",
       "      <td>0.472402</td>\n",
       "    </tr>\n",
       "    <tr>\n",
       "      <th>Q4</th>\n",
       "      <td>0.452201</td>\n",
       "      <td>0.468583</td>\n",
       "      <td>0.471807</td>\n",
       "      <td>1.000000</td>\n",
       "      <td>0.540951</td>\n",
       "      <td>0.457720</td>\n",
       "      <td>0.454069</td>\n",
       "      <td>0.458056</td>\n",
       "      <td>0.548491</td>\n",
       "      <td>0.428515</td>\n",
       "    </tr>\n",
       "    <tr>\n",
       "      <th>Q5</th>\n",
       "      <td>0.469311</td>\n",
       "      <td>0.468135</td>\n",
       "      <td>0.499683</td>\n",
       "      <td>0.540951</td>\n",
       "      <td>1.000000</td>\n",
       "      <td>0.409831</td>\n",
       "      <td>0.361441</td>\n",
       "      <td>0.365572</td>\n",
       "      <td>0.482860</td>\n",
       "      <td>0.437983</td>\n",
       "    </tr>\n",
       "    <tr>\n",
       "      <th>Q6</th>\n",
       "      <td>0.406926</td>\n",
       "      <td>0.263359</td>\n",
       "      <td>0.348730</td>\n",
       "      <td>0.457720</td>\n",
       "      <td>0.409831</td>\n",
       "      <td>1.000000</td>\n",
       "      <td>0.614513</td>\n",
       "      <td>0.514797</td>\n",
       "      <td>0.555703</td>\n",
       "      <td>0.396143</td>\n",
       "    </tr>\n",
       "    <tr>\n",
       "      <th>Q7</th>\n",
       "      <td>0.478654</td>\n",
       "      <td>0.381910</td>\n",
       "      <td>0.383101</td>\n",
       "      <td>0.454069</td>\n",
       "      <td>0.361441</td>\n",
       "      <td>0.614513</td>\n",
       "      <td>1.000000</td>\n",
       "      <td>0.572929</td>\n",
       "      <td>0.590555</td>\n",
       "      <td>0.445794</td>\n",
       "    </tr>\n",
       "    <tr>\n",
       "      <th>Q8</th>\n",
       "      <td>0.386467</td>\n",
       "      <td>0.333710</td>\n",
       "      <td>0.441568</td>\n",
       "      <td>0.458056</td>\n",
       "      <td>0.365572</td>\n",
       "      <td>0.514797</td>\n",
       "      <td>0.572929</td>\n",
       "      <td>1.000000</td>\n",
       "      <td>0.517608</td>\n",
       "      <td>0.457464</td>\n",
       "    </tr>\n",
       "    <tr>\n",
       "      <th>Q9</th>\n",
       "      <td>0.378117</td>\n",
       "      <td>0.490449</td>\n",
       "      <td>0.444338</td>\n",
       "      <td>0.548491</td>\n",
       "      <td>0.482860</td>\n",
       "      <td>0.555703</td>\n",
       "      <td>0.590555</td>\n",
       "      <td>0.517608</td>\n",
       "      <td>1.000000</td>\n",
       "      <td>0.495967</td>\n",
       "    </tr>\n",
       "    <tr>\n",
       "      <th>Q10</th>\n",
       "      <td>0.492475</td>\n",
       "      <td>0.432991</td>\n",
       "      <td>0.472402</td>\n",
       "      <td>0.428515</td>\n",
       "      <td>0.437983</td>\n",
       "      <td>0.396143</td>\n",
       "      <td>0.445794</td>\n",
       "      <td>0.457464</td>\n",
       "      <td>0.495967</td>\n",
       "      <td>1.000000</td>\n",
       "    </tr>\n",
       "  </tbody>\n",
       "</table>\n",
       "</div>"
      ],
      "text/plain": [
       "           Q1        Q2        Q3        Q4        Q5        Q6        Q7  \\\n",
       "Q1   1.000000  0.405080  0.425792  0.452201  0.469311  0.406926  0.478654   \n",
       "Q2   0.405080  1.000000  0.649221  0.468583  0.468135  0.263359  0.381910   \n",
       "Q3   0.425792  0.649221  1.000000  0.471807  0.499683  0.348730  0.383101   \n",
       "Q4   0.452201  0.468583  0.471807  1.000000  0.540951  0.457720  0.454069   \n",
       "Q5   0.469311  0.468135  0.499683  0.540951  1.000000  0.409831  0.361441   \n",
       "Q6   0.406926  0.263359  0.348730  0.457720  0.409831  1.000000  0.614513   \n",
       "Q7   0.478654  0.381910  0.383101  0.454069  0.361441  0.614513  1.000000   \n",
       "Q8   0.386467  0.333710  0.441568  0.458056  0.365572  0.514797  0.572929   \n",
       "Q9   0.378117  0.490449  0.444338  0.548491  0.482860  0.555703  0.590555   \n",
       "Q10  0.492475  0.432991  0.472402  0.428515  0.437983  0.396143  0.445794   \n",
       "\n",
       "           Q8        Q9       Q10  \n",
       "Q1   0.386467  0.378117  0.492475  \n",
       "Q2   0.333710  0.490449  0.432991  \n",
       "Q3   0.441568  0.444338  0.472402  \n",
       "Q4   0.458056  0.548491  0.428515  \n",
       "Q5   0.365572  0.482860  0.437983  \n",
       "Q6   0.514797  0.555703  0.396143  \n",
       "Q7   0.572929  0.590555  0.445794  \n",
       "Q8   1.000000  0.517608  0.457464  \n",
       "Q9   0.517608  1.000000  0.495967  \n",
       "Q10  0.457464  0.495967  1.000000  "
      ]
     },
     "execution_count": 6,
     "metadata": {},
     "output_type": "execute_result"
    }
   ],
   "source": [
    "corelation = data.corr()\n",
    "corelation"
   ]
  },
  {
   "cell_type": "markdown",
   "metadata": {},
   "source": [
    "<p>Keterangan :</p>\n",
    "\n",
    "<p>\n",
    "Q1 = Melalui internet mahasiswa dapat mengakses berbagai literatur dan referensi ilmu pengetahuan yang dibutuhkan dengan cepat, sehingga dapat memudahkan proses studinya<br>\n",
    "Q2 = E-Learning dapat menjadi efektif apabila adanya kerjasama antara pengajar dan siswanya untuk mensukseskannya, tanpa salah satu dari keduanya keberadaan E-Learning tidak akan berjalan secara lancar.<br>\n",
    "Q3 = Efektivitas dari E-Learning didukung oleh keahlian dan kreativitas pengajar dalam meracik materi yang akan disampaikan kepada peserta didiknya')<br>\n",
    "Q4 = E-Learning dengan metode pembelajaran secara formal, misalnya adalah pembelajaran dengan kurikulum, silabus, mata pelajaran dan tes yang telah diatur dan disusun berdasarkan jadwal yang telah disepakati pihak-pihak terkait (pengelola e-Learning dan pembelajar itu sendiri). Apakah anda setuju dengan metode ini?<br>\n",
    "Q5 = E-Learning juga dilakukan secara informal dengan cara interaksi yang lebih sederhana, misalnya melalui sarana mailing list, e-newsletter atau website pribadi, organisasi, program (biasanya metode ini tidak memungut biaya). Apakah anda setuju dengan metode informal ini?<br>\n",
    "Q6 = Internet dengan metode belajar online memudahkan siswa maupun mahasiswa dalam berinteraksi dan mempelajari pelajaran yang di inginkan secara otodidak.<br>\n",
    "Q7 = Penggunaan E-learning untuk menunjang pelaksanaan proses belajar dapat meningkatkan daya serap mahasiswa atas materi yang diajarkan.<br>\n",
    "Q8 = E-Learning meningkatkan kemampuan belajar mandiri mahasiswa.<br>\n",
    "Q9 = E-Learning memanfaatkan jadwal pembelajaran, kurikulum, hasil kemajuan belajar, dan hal-hal yang berkaitan dengan administrasi pendidikan dapat dilihat setiap saat di komputer.<br>\n",
    "Q10 = E-Learning menggunakan bahan ajar bersifat mandiri (self learning materials) yang kemudian disimpan didalan komputer, sehingga dapat untuk diakses oleh doesen serta mahasiswa kapan saja dan dimanapun.<br>\n",
    " <br>\n",
    "</p>"
   ]
  },
  {
   "cell_type": "markdown",
   "metadata": {},
   "source": [
    "# Peta Korelasi"
   ]
  },
  {
   "cell_type": "code",
   "execution_count": 7,
   "metadata": {},
   "outputs": [
    {
     "data": {
      "text/plain": [
       "<function matplotlib.pyplot.show(*args, **kw)>"
      ]
     },
     "execution_count": 7,
     "metadata": {},
     "output_type": "execute_result"
    },
    {
     "data": {
      "image/png": "[encoded data removed]",
      "text/plain": [
       "<Figure size 2880x2880 with 2 Axes>"
      ]
     },
     "metadata": {
      "needs_background": "light"
     },
     "output_type": "display_data"
    }
   ],
   "source": [
    "#Peta Korelasi\n",
    "#Nilai korelasi yang lebih tinggi ditunjukan dengan warna yang lebih terang\n",
    "f,ax = plt.subplots(figsize=(40,40))\n",
    "sns.heatmap(corelation, annot=True, linewidths=.5, fmt='.3f', ax=ax)\n",
    "plt.show"
   ]
  },
  {
   "cell_type": "markdown",
   "metadata": {},
   "source": [
    "<p>Kesimpulan :</p>\n",
    "\n",
    "<p>Dengan menggunakan 5000 data jawaban dari 10 pertanyaan survei yang ditujukan kepada 500 responden yang berbeda, dihitunglah nilai korelasi, rata-rata, dan standar reabilitas masing-masing tiap pertanyaan survei tersebut. Diperlihatkan juga peta korelasi yang menggunakan warna untuk mengartikan setiap nilai-nilai yang dihitung tersebut.</p>"
   ]
  },
  {
   "cell_type": "markdown",
   "metadata": {},
   "source": [
    "# PENGUJIAN DATA MENGGUNAKAN test Alpha Cronbach, t-Test, dan Principal Component Analysis\n"
   ]
  },
  {
   "cell_type": "markdown",
   "metadata": {},
   "source": [
    "# 1. Uji Data Menggunakan test Alpha Cronbach"
   ]
  },
  {
   "cell_type": "code",
   "execution_count": 4,
   "metadata": {},
   "outputs": [],
   "source": [
    "datasurvey<-read.csv('Kelompok-10.csv')"
   ]
  },
  {
   "cell_type": "code",
   "execution_count": 5,
   "metadata": {},
   "outputs": [
    {
     "data": {
      "text/html": [
       "<table>\n",
       "<thead><tr><th scope=col>Q1</th><th scope=col>Q2</th><th scope=col>Q3</th><th scope=col>Q4</th><th scope=col>Q5</th><th scope=col>Q6</th><th scope=col>Q7</th><th scope=col>Q8</th><th scope=col>Q9</th><th scope=col>Q10</th></tr></thead>\n",
       "<tbody>\n",
       "\t<tr><td>4</td><td>4</td><td>4</td><td>4</td><td>4</td><td>4</td><td>4</td><td>4</td><td>4</td><td>4</td></tr>\n",
       "\t<tr><td>4</td><td>4</td><td>4</td><td>4</td><td>4</td><td>4</td><td>4</td><td>4</td><td>4</td><td>4</td></tr>\n",
       "\t<tr><td>5</td><td>5</td><td>5</td><td>4</td><td>4</td><td>4</td><td>3</td><td>3</td><td>4</td><td>4</td></tr>\n",
       "\t<tr><td>5</td><td>4</td><td>3</td><td>4</td><td>4</td><td>5</td><td>3</td><td>3</td><td>4</td><td>3</td></tr>\n",
       "\t<tr><td>5</td><td>4</td><td>4</td><td>4</td><td>4</td><td>4</td><td>4</td><td>4</td><td>4</td><td>4</td></tr>\n",
       "\t<tr><td>5</td><td>4</td><td>5</td><td>4</td><td>4</td><td>4</td><td>4</td><td>4</td><td>4</td><td>4</td></tr>\n",
       "</tbody>\n",
       "</table>\n"
      ],
      "text/latex": [
       "\\begin{tabular}{r|llllllllll}\n",
       " Q1 & Q2 & Q3 & Q4 & Q5 & Q6 & Q7 & Q8 & Q9 & Q10\\\\\n",
       "\\hline\n",
       "\t 4 & 4 & 4 & 4 & 4 & 4 & 4 & 4 & 4 & 4\\\\\n",
       "\t 4 & 4 & 4 & 4 & 4 & 4 & 4 & 4 & 4 & 4\\\\\n",
       "\t 5 & 5 & 5 & 4 & 4 & 4 & 3 & 3 & 4 & 4\\\\\n",
       "\t 5 & 4 & 3 & 4 & 4 & 5 & 3 & 3 & 4 & 3\\\\\n",
       "\t 5 & 4 & 4 & 4 & 4 & 4 & 4 & 4 & 4 & 4\\\\\n",
       "\t 5 & 4 & 5 & 4 & 4 & 4 & 4 & 4 & 4 & 4\\\\\n",
       "\\end{tabular}\n"
      ],
      "text/markdown": [
       "\n",
       "| Q1 | Q2 | Q3 | Q4 | Q5 | Q6 | Q7 | Q8 | Q9 | Q10 |\n",
       "|---|---|---|---|---|---|---|---|---|---|\n",
       "| 4 | 4 | 4 | 4 | 4 | 4 | 4 | 4 | 4 | 4 |\n",
       "| 4 | 4 | 4 | 4 | 4 | 4 | 4 | 4 | 4 | 4 |\n",
       "| 5 | 5 | 5 | 4 | 4 | 4 | 3 | 3 | 4 | 4 |\n",
       "| 5 | 4 | 3 | 4 | 4 | 5 | 3 | 3 | 4 | 3 |\n",
       "| 5 | 4 | 4 | 4 | 4 | 4 | 4 | 4 | 4 | 4 |\n",
       "| 5 | 4 | 5 | 4 | 4 | 4 | 4 | 4 | 4 | 4 |\n",
       "\n"
      ],
      "text/plain": [
       "  Q1 Q2 Q3 Q4 Q5 Q6 Q7 Q8 Q9 Q10\n",
       "1 4  4  4  4  4  4  4  4  4  4  \n",
       "2 4  4  4  4  4  4  4  4  4  4  \n",
       "3 5  5  5  4  4  4  3  3  4  4  \n",
       "4 5  4  3  4  4  5  3  3  4  3  \n",
       "5 5  4  4  4  4  4  4  4  4  4  \n",
       "6 5  4  5  4  4  4  4  4  4  4  "
      ]
     },
     "metadata": {},
     "output_type": "display_data"
    }
   ],
   "source": [
    "head(datasurvey)"
   ]
  },
  {
   "cell_type": "code",
   "execution_count": 6,
   "metadata": {},
   "outputs": [],
   "source": [
    "library('psych')"
   ]
  },
  {
   "cell_type": "code",
   "execution_count": 7,
   "metadata": {},
   "outputs": [
    {
     "data": {
      "text/plain": [
       "\n",
       "Reliability analysis   \n",
       "Call: alpha(x = datasurvey)\n",
       "\n",
       "  raw_alpha std.alpha G6(smc) average_r S/N    ase mean  sd median_r\n",
       "      0.89      0.89     0.9      0.46 8.4 0.0072    4 0.6     0.46\n",
       "\n",
       " lower alpha upper     95% confidence boundaries\n",
       "0.88 0.89 0.9 \n",
       "\n",
       " Reliability if an item is dropped:\n",
       "    raw_alpha std.alpha G6(smc) average_r S/N alpha se  var.r med.r\n",
       "Q1       0.88      0.89    0.89      0.46 7.8   0.0078 0.0066  0.46\n",
       "Q2       0.88      0.89    0.88      0.46 7.8   0.0077 0.0043  0.46\n",
       "Q3       0.88      0.88    0.88      0.46 7.5   0.0079 0.0055  0.46\n",
       "Q4       0.88      0.88    0.89      0.45 7.4   0.0081 0.0067  0.45\n",
       "Q5       0.88      0.88    0.89      0.46 7.6   0.0078 0.0063  0.46\n",
       "Q6       0.88      0.88    0.89      0.46 7.7   0.0079 0.0044  0.46\n",
       "Q7       0.88      0.88    0.88      0.45 7.4   0.0082 0.0050  0.46\n",
       "Q8       0.88      0.88    0.89      0.46 7.6   0.0080 0.0058  0.46\n",
       "Q9       0.87      0.88    0.88      0.45 7.2   0.0083 0.0056  0.45\n",
       "Q10      0.88      0.88    0.89      0.46 7.6   0.0079 0.0069  0.46\n",
       "\n",
       " Item statistics \n",
       "      n raw.r std.r r.cor r.drop mean   sd\n",
       "Q1  500  0.68  0.68  0.63   0.60  4.3 0.79\n",
       "Q2  500  0.66  0.68  0.65   0.58  4.3 0.73\n",
       "Q3  500  0.69  0.72  0.69   0.62  4.2 0.71\n",
       "Q4  500  0.74  0.74  0.70   0.66  3.9 0.85\n",
       "Q5  500  0.69  0.70  0.66   0.61  4.0 0.81\n",
       "Q6  500  0.73  0.69  0.66   0.63  3.7 1.06\n",
       "Q7  500  0.77  0.74  0.71   0.68  3.5 1.08\n",
       "Q8  500  0.72  0.71  0.66   0.63  3.8 0.92\n",
       "Q9  500  0.77  0.77  0.75   0.71  4.0 0.80\n",
       "Q10 500  0.69  0.71  0.66   0.62  4.1 0.70\n",
       "\n",
       "Non missing response frequency for each item\n",
       "       1    2    3    4    5 miss\n",
       "Q1  0.02 0.02 0.03 0.50 0.42    0\n",
       "Q2  0.01 0.02 0.03 0.51 0.43    0\n",
       "Q3  0.01 0.01 0.08 0.54 0.36    0\n",
       "Q4  0.02 0.06 0.18 0.56 0.20    0\n",
       "Q5  0.01 0.05 0.14 0.56 0.24    0\n",
       "Q6  0.02 0.15 0.18 0.42 0.23    0\n",
       "Q7  0.05 0.14 0.23 0.41 0.16    0\n",
       "Q8  0.01 0.10 0.15 0.54 0.19    0\n",
       "Q9  0.01 0.06 0.11 0.61 0.21    0\n",
       "Q10 0.01 0.02 0.07 0.65 0.25    0"
      ]
     },
     "metadata": {},
     "output_type": "display_data"
    }
   ],
   "source": [
    "alpha(datasurvey)"
   ]
  },
  {
   "cell_type": "markdown",
   "metadata": {},
   "source": [
    "<p>Keterangan :</p>\n",
    "\n",
    "<p>\n",
    "Q1 = Melalui internet mahasiswa dapat mengakses berbagai literatur dan referensi ilmu pengetahuan yang dibutuhkan dengan cepat, sehingga dapat memudahkan proses studinya<br>\n",
    "Q2 = E-Learning dapat menjadi efektif apabila adanya kerjasama antara pengajar dan siswanya untuk mensukseskannya, tanpa salah satu dari keduanya keberadaan E-Learning tidak akan berjalan secara lancar.<br>\n",
    "Q3 = Efektivitas dari E-Learning didukung oleh keahlian dan kreativitas pengajar dalam meracik materi yang akan disampaikan kepada peserta didiknya')<br>\n",
    "Q4 = E-Learning dengan metode pembelajaran secara formal, misalnya adalah pembelajaran dengan kurikulum, silabus, mata pelajaran dan tes yang telah diatur dan disusun berdasarkan jadwal yang telah disepakati pihak-pihak terkait (pengelola e-Learning dan pembelajar itu sendiri). Apakah anda setuju dengan metode ini?<br>\n",
    "Q5 = E-Learning juga dilakukan secara informal dengan cara interaksi yang lebih sederhana, misalnya melalui sarana mailing list, e-newsletter atau website pribadi, organisasi, program (biasanya metode ini tidak memungut biaya). Apakah anda setuju dengan metode informal ini?<br>\n",
    "Q6 = Internet dengan metode belajar online memudahkan siswa maupun mahasiswa dalam berinteraksi dan mempelajari pelajaran yang di inginkan secara otodidak.<br>\n",
    "Q7 = Penggunaan E-learning untuk menunjang pelaksanaan proses belajar dapat meningkatkan daya serap mahasiswa atas materi yang diajarkan.<br>\n",
    "Q8 = E-Learning meningkatkan kemampuan belajar mandiri mahasiswa.<br>\n",
    "Q9 = E-Learning memanfaatkan jadwal pembelajaran, kurikulum, hasil kemajuan belajar, dan hal-hal yang berkaitan dengan administrasi pendidikan dapat dilihat setiap saat di komputer.<br>\n",
    "Q10 = E-Learning menggunakan bahan ajar bersifat mandiri (self learning materials) yang kemudian disimpan didalan komputer, sehingga dapat untuk diakses oleh doesen serta mahasiswa kapan saja dan dimanapun.<br>\n",
    " <br>\n",
    "</p>"
   ]
  },
  {
   "cell_type": "markdown",
   "metadata": {},
   "source": [
    "<p><strong>Di lihat dari hasil <span style=\"text-decoration: underline;\"><em>Analisis Reabilitas</em></span> perhitungan menggunakan <span style=\"text-decoration: underline;\"><em>Alpha cronbach</em></span>, terdapat nilai konsistensi pada item yang telah dinyatakan valid antara lain :</strong></p>\n",
    "<ul>\n",
    "<li>Nilai reabilitas sebesar 0,89 atau 89%</li>\n",
    "<li>Dengan standart reabilitas 0,89 atau 89%</li>\n",
    "<li>Nilai reabilitas Rata rata sebesar 0,46</li>\n",
    "</ul>\n",
    "<p>&nbsp;</p>\n",
    "<p><strong>Nilai <span style=\"text-decoration: underline;\"><em>reabilitas</em></span> pada masing masing item jika pada setiap pertanyaan dihilangkan :</strong></p>\n",
    "<ul>\n",
    "<li>Nilai reabilitas pada Q1 sebesar 0,88, standar reabilitas 0,89 dengan rata-rata 0,46</li>\n",
    "<li>Nilai reabilitas pada Q2 sebesar 0,88, standar reabilitas 0,89 dengan rata-rata 0,46</li>\n",
    "<li>Nilai reabilitas pada Q3 sebesar 0,88, standar reabilitas 0,88 dengan rata-rata 0,46</li>\n",
    "<li>Nilai reabilitas pada Q4 sebesar 0,88, standar reabilitas 0,88 dengan rata-rata 0,45</li>\n",
    "<li>Nilai reabilitas pada Q5 sebesar 0,88 , standar reabilitas 0,88 dengan rata-rata 0,46</li>\n",
    "<li>Nilai reabilitas pada Q6 sebesar 0,88 , standar reabilitas 0,88 dengan rata-rata 0,46</li>\n",
    "<li>Nilai reabilitas pada Q7 sebesar 0,88 , standar reabilitas 0,88 dengan rata-rata 0,45</li>\n",
    "<li>Nilai reabilitas pada Q8 sebesar 0,88 , standar reabilitas 0,88 dengan rata-rata 0,46</li>\n",
    "<li>Nilai reabilitas pada Q9 sebesar 0,87 , standar reabilitas 0,88 dengan rata-rata 0,45</li>\n",
    "<li>Nilai reabilitas pada Q10 sebesar 0,88 , standar reabilitas 0,88 dengan rata-rata 0,46</li>\n",
    "</ul>\n",
    "<p>&nbsp;</p>\n",
    "<p><strong>Nilai <span style=\"text-decoration: underline;\"><em>reabilita</em></span>s pada masing masing item statistik :</strong></p>\n",
    "<ul>\n",
    "<li>Nilai reabilitas pada Q1 sebesar 0,68 dan standar reabilitas 0,68</li>\n",
    "<li>Nilai reabilitas pada Q2 sebesar 0,66 dan standar reabilitas 0,68</li>\n",
    "<li>Nilai reabilitas pada Q3 sebesar 0,72 dan standar reabilitas 0,69</li>\n",
    "<li>Nilai reabilitas pada Q4 sebesar 0,74 dan standar reabilitas 0,74</li>\n",
    "<li>Nilai reabilitas pada Q5 sebesar 0,69 dan standar reabilitas 0,70</li>\n",
    "<li>Nilai reabilitas pada Q6 sebesar 0,73 dan standar reabilitas 0,69</li>\n",
    "<li>Nilai reabilitas pada Q7 sebesar 0,77 dan standar reabilitas 0,74</li>\n",
    "<li>Nilai reabilitas pada Q8 sebesar 0,72 dan standar reabilitas 0,71</li>\n",
    "<li>Nilai reabilitas pada Q9 sebesar 0,77 dan standar reabilitas 0,77</li>\n",
    "<li>Nilai reabilitas pada Q10 sebesar 0,69 dan standar reabilitas 0,71</li>\n",
    "</ul>"
   ]
  },
  {
   "cell_type": "markdown",
   "metadata": {},
   "source": [
    "# 2. Uji Data menggunakan T-test\n"
   ]
  },
  {
   "cell_type": "code",
   "execution_count": 2,
   "metadata": {},
   "outputs": [],
   "source": [
    "datasurvey<-read.csv('Kelompok-10.csv')"
   ]
  },
  {
   "cell_type": "code",
   "execution_count": 3,
   "metadata": {},
   "outputs": [],
   "source": [
    "attach(datasurvey)"
   ]
  },
  {
   "cell_type": "code",
   "execution_count": 4,
   "metadata": {},
   "outputs": [
    {
     "data": {
      "text/html": [
       "<ol class=list-inline>\n",
       "\t<li>'Q1'</li>\n",
       "\t<li>'Q2'</li>\n",
       "\t<li>'Q3'</li>\n",
       "\t<li>'Q4'</li>\n",
       "\t<li>'Q5'</li>\n",
       "\t<li>'Q6'</li>\n",
       "\t<li>'Q7'</li>\n",
       "\t<li>'Q8'</li>\n",
       "\t<li>'Q9'</li>\n",
       "\t<li>'Q10'</li>\n",
       "</ol>\n"
      ],
      "text/latex": [
       "\\begin{enumerate*}\n",
       "\\item 'Q1'\n",
       "\\item 'Q2'\n",
       "\\item 'Q3'\n",
       "\\item 'Q4'\n",
       "\\item 'Q5'\n",
       "\\item 'Q6'\n",
       "\\item 'Q7'\n",
       "\\item 'Q8'\n",
       "\\item 'Q9'\n",
       "\\item 'Q10'\n",
       "\\end{enumerate*}\n"
      ],
      "text/markdown": [
       "1. 'Q1'\n",
       "2. 'Q2'\n",
       "3. 'Q3'\n",
       "4. 'Q4'\n",
       "5. 'Q5'\n",
       "6. 'Q6'\n",
       "7. 'Q7'\n",
       "8. 'Q8'\n",
       "9. 'Q9'\n",
       "10. 'Q10'\n",
       "\n",
       "\n"
      ],
      "text/plain": [
       " [1] \"Q1\"  \"Q2\"  \"Q3\"  \"Q4\"  \"Q5\"  \"Q6\"  \"Q7\"  \"Q8\"  \"Q9\"  \"Q10\""
      ]
     },
     "metadata": {},
     "output_type": "display_data"
    }
   ],
   "source": [
    "names(datasurvey)"
   ]
  },
  {
   "cell_type": "code",
   "execution_count": 5,
   "metadata": {},
   "outputs": [
    {
     "data": {
      "text/html": [
       "<ol class=list-inline>\n",
       "\t<li>500</li>\n",
       "\t<li>10</li>\n",
       "</ol>\n"
      ],
      "text/latex": [
       "\\begin{enumerate*}\n",
       "\\item 500\n",
       "\\item 10\n",
       "\\end{enumerate*}\n"
      ],
      "text/markdown": [
       "1. 500\n",
       "2. 10\n",
       "\n",
       "\n"
      ],
      "text/plain": [
       "[1] 500  10"
      ]
     },
     "metadata": {},
     "output_type": "display_data"
    }
   ],
   "source": [
    "dim(datasurvey)"
   ]
  },
  {
   "cell_type": "markdown",
   "metadata": {},
   "source": [
    "<p><strong>Data Paired T-test Q1 dan Q2 terdapat perbedaan rata&rdquo; pada kedua sample ialah -0,038, dari rata&rdquo; perbedaan kedua sample besar dari 499 sampel ukuran (df) yang menghasilkan nilai t = -1,026 yang secara statistic nilai p bernilai 0,3054</strong><br /> </p>"
   ]
  },
  {
   "cell_type": "code",
   "execution_count": 29,
   "metadata": {},
   "outputs": [
    {
     "data": {
      "text/plain": [
       "\n",
       "\tPaired t-test\n",
       "\n",
       "data:  Q1 and Q2\n",
       "t = -1.026, df = 499, p-value = 0.3054\n",
       "alternative hypothesis: true difference in means is not equal to 0\n",
       "99 percent confidence interval:\n",
       " -0.13377129  0.05777129\n",
       "sample estimates:\n",
       "mean of the differences \n",
       "                 -0.038 \n"
      ]
     },
     "metadata": {},
     "output_type": "display_data"
    }
   ],
   "source": [
    "t.test(Q1, Q2, mu=0, alt=\"two.sided\", paired=T, conf.level=0.99)"
   ]
  },
  {
   "cell_type": "markdown",
   "metadata": {},
   "source": [
    "<p><strong>Data Paired T-test Q1 dan Q3 terdapat perbedaan rata&rdquo; pada kedua sample ialah 0,048, dari rata&rdquo; perbedaan kedua sample besar dari 499 sampel ukuran (df) yang menghasilkan nilai t = 1,3344 yang secara statistic nilai p bernilai 0,1827</strong><br /> </p>"
   ]
  },
  {
   "cell_type": "code",
   "execution_count": 30,
   "metadata": {},
   "outputs": [
    {
     "data": {
      "text/plain": [
       "\n",
       "\tPaired t-test\n",
       "\n",
       "data:  Q1 and Q3\n",
       "t = 1.3344, df = 499, p-value = 0.1827\n",
       "alternative hypothesis: true difference in means is not equal to 0\n",
       "99 percent confidence interval:\n",
       " -0.04501326  0.14101326\n",
       "sample estimates:\n",
       "mean of the differences \n",
       "                  0.048 \n"
      ]
     },
     "metadata": {},
     "output_type": "display_data"
    }
   ],
   "source": [
    "t.test(Q1, Q3, mu=0, alt=\"two.sided\", paired=T, conf.level=0.99)"
   ]
  },
  {
   "cell_type": "markdown",
   "metadata": {},
   "source": [
    "<p><strong>Data Paired T-test Q1 dan Q4 terdapat perbedaan rata&rdquo; pada kedua sample ialah 0,432, dari rata&rdquo; perbedaan kedua sample besar dari 499 sampel ukuran (df) yang menghasilkan nilai t = 11,238 yang secara statistic nilai p bernilai <2.2e-16 </strong><br /> </p>"
   ]
  },
  {
   "cell_type": "code",
   "execution_count": 31,
   "metadata": {},
   "outputs": [
    {
     "data": {
      "text/plain": [
       "\n",
       "\tPaired t-test\n",
       "\n",
       "data:  Q1 and Q4\n",
       "t = 11.238, df = 499, p-value < 2.2e-16\n",
       "alternative hypothesis: true difference in means is not equal to 0\n",
       "99 percent confidence interval:\n",
       " 0.3326025 0.5313975\n",
       "sample estimates:\n",
       "mean of the differences \n",
       "                  0.432 \n"
      ]
     },
     "metadata": {},
     "output_type": "display_data"
    }
   ],
   "source": [
    "t.test(Q1, Q4, mu=0, alt=\"two.sided\", paired=T, conf.level=0.99)"
   ]
  },
  {
   "cell_type": "markdown",
   "metadata": {},
   "source": [
    "<p><strong>Data Paired T-test Q1 dan Q5 terdapat perbedaan rata&rdquo; pada kedua sample ialah 0,31, dari rata&rdquo; perbedaan kedua sample besar dari 499 sampel ukuran (df) yang menghasilkan nilai t = 8,3859 yang secara statistic nilai p bernilai 5.185e-16  </strong><br /> </p>"
   ]
  },
  {
   "cell_type": "code",
   "execution_count": 32,
   "metadata": {},
   "outputs": [
    {
     "data": {
      "text/plain": [
       "\n",
       "\tPaired t-test\n",
       "\n",
       "data:  Q1 and Q5\n",
       "t = 8.3859, df = 499, p-value = 5.185e-16\n",
       "alternative hypothesis: true difference in means is not equal to 0\n",
       "99 percent confidence interval:\n",
       " 0.2144147 0.4055853\n",
       "sample estimates:\n",
       "mean of the differences \n",
       "                   0.31 \n"
      ]
     },
     "metadata": {},
     "output_type": "display_data"
    }
   ],
   "source": [
    "t.test(Q1, Q5, mu=0, alt=\"two.sided\", paired=T, conf.level=0.99)"
   ]
  },
  {
   "cell_type": "markdown",
   "metadata": {},
   "source": [
    "<p><strong>Data Paired T-test Q1 dan Q6 terdapat perbedaan rata&rdquo; pada kedua sample ialah 0,618, dari rata&rdquo; perbedaan kedua sample besar dari 499 sampel ukuran (df) yang menghasilkan nilai t = 0,618 yang secara statistic nilai p bernilai <2.2e-16  </strong><br /> </p>"
   ]
  },
  {
   "cell_type": "code",
   "execution_count": 33,
   "metadata": {},
   "outputs": [
    {
     "data": {
      "text/plain": [
       "\n",
       "\tPaired t-test\n",
       "\n",
       "data:  Q1 and Q6\n",
       "t = 13.408, df = 499, p-value < 2.2e-16\n",
       "alternative hypothesis: true difference in means is not equal to 0\n",
       "99 percent confidence interval:\n",
       " 0.4988211 0.7371789\n",
       "sample estimates:\n",
       "mean of the differences \n",
       "                  0.618 \n"
      ]
     },
     "metadata": {},
     "output_type": "display_data"
    }
   ],
   "source": [
    "t.test(Q1, Q6, mu=0, alt=\"two.sided\", paired=T, conf.level=0.99)"
   ]
  },
  {
   "cell_type": "markdown",
   "metadata": {},
   "source": [
    "<p><strong>Data Paired T-test Q1 dan Q7 terdapat perbedaan rata&rdquo; pada kedua sample ialah 0,796, dari rata&rdquo; perbedaan kedua sample besar dari 499 sampel ukuran (df) yang menghasilkan nilai t = 18,051 yang secara statistic nilai p bernilai <2.2e-16  </strong><br /> </p>"
   ]
  },
  {
   "cell_type": "code",
   "execution_count": 34,
   "metadata": {},
   "outputs": [
    {
     "data": {
      "text/plain": [
       "\n",
       "\tPaired t-test\n",
       "\n",
       "data:  Q1 and Q7\n",
       "t = 18.051, df = 499, p-value < 2.2e-16\n",
       "alternative hypothesis: true difference in means is not equal to 0\n",
       "99 percent confidence interval:\n",
       " 0.6819743 0.9100257\n",
       "sample estimates:\n",
       "mean of the differences \n",
       "                  0.796 \n"
      ]
     },
     "metadata": {},
     "output_type": "display_data"
    }
   ],
   "source": [
    "t.test(Q1, Q7, mu=0, alt=\"two.sided\", paired=T, conf.level=0.99)"
   ]
  },
  {
   "cell_type": "markdown",
   "metadata": {},
   "source": [
    "<p><strong>Data Paired T-test Q1 dan Q8 terdapat perbedaan rata&rdquo; pada kedua sample ialah 0,508, dari rata&rdquo; perbedaan kedua sample besar dari 499 sampel ukuran (df) yang menghasilkan nilai t = 11,949 yang secara statistic nilai p bernilai <2.2e-16  </strong><br /> </p>"
   ]
  },
  {
   "cell_type": "code",
   "execution_count": 35,
   "metadata": {},
   "outputs": [
    {
     "data": {
      "text/plain": [
       "\n",
       "\tPaired t-test\n",
       "\n",
       "data:  Q1 and Q8\n",
       "t = 11.949, df = 499, p-value < 2.2e-16\n",
       "alternative hypothesis: true difference in means is not equal to 0\n",
       "99 percent confidence interval:\n",
       " 0.3980694 0.6179306\n",
       "sample estimates:\n",
       "mean of the differences \n",
       "                  0.508 \n"
      ]
     },
     "metadata": {},
     "output_type": "display_data"
    }
   ],
   "source": [
    "t.test(Q1, Q8, mu=0, alt=\"two.sided\", paired=T, conf.level=0.99)"
   ]
  },
  {
   "cell_type": "markdown",
   "metadata": {},
   "source": [
    "<p><strong>Data Paired T-test Q1 dan Q9 terdapat perbedaan rata&rdquo; pada kedua sample ialah 0,338, dari rata&rdquo; perbedaan kedua sample besar dari 499 sampel ukuran (df) yang menghasilkan nilai t = 8,5069 yang secara statistic nilai p bernilai <2.2e-16  </strong><br /> </p>"
   ]
  },
  {
   "cell_type": "code",
   "execution_count": 36,
   "metadata": {},
   "outputs": [
    {
     "data": {
      "text/plain": [
       "\n",
       "\tPaired t-test\n",
       "\n",
       "data:  Q1 and Q9\n",
       "t = 8.5069, df = 499, p-value < 2.2e-16\n",
       "alternative hypothesis: true difference in means is not equal to 0\n",
       "99 percent confidence interval:\n",
       " 0.235263 0.440737\n",
       "sample estimates:\n",
       "mean of the differences \n",
       "                  0.338 \n"
      ]
     },
     "metadata": {},
     "output_type": "display_data"
    }
   ],
   "source": [
    "t.test(Q1, Q9, mu=0, alt=\"two.sided\", paired=T, conf.level=0.99)"
   ]
  },
  {
   "cell_type": "markdown",
   "metadata": {},
   "source": [
    "<p><strong>Data Paired T-test Q1 dan Q10 terdapat perbedaan rata&rdquo; pada kedua sample ialah 0,184, dari rata&rdquo; perbedaan kedua sample besar dari 499 sampel ukuran (df) yang menghasilkan nilai t = 5,4627 yang secara statistic nilai p bernilai 7.413e-08  </strong><br /> </p>"
   ]
  },
  {
   "cell_type": "code",
   "execution_count": 37,
   "metadata": {},
   "outputs": [
    {
     "data": {
      "text/plain": [
       "\n",
       "\tPaired t-test\n",
       "\n",
       "data:  Q1 and Q10\n",
       "t = 5.4627, df = 499, p-value = 7.413e-08\n",
       "alternative hypothesis: true difference in means is not equal to 0\n",
       "99 percent confidence interval:\n",
       " 0.09690479 0.27109521\n",
       "sample estimates:\n",
       "mean of the differences \n",
       "                  0.184 \n"
      ]
     },
     "metadata": {},
     "output_type": "display_data"
    }
   ],
   "source": [
    "t.test(Q1, Q10, mu=0, alt=\"two.sided\", paired=T, conf.level=0.99)"
   ]
  },
  {
   "cell_type": "markdown",
   "metadata": {},
   "source": [
    "<p><strong>Data Paired T-test Q2 dan Q3 terdapat perbedaan rata&rdquo; pada kedua sample ialah 0,086, dari rata&rdquo; perbedaan kedua sample besar dari 499 sampel ukuran (df) yang menghasilkan nilai t = 3,2081 yang secara statistic nilai p bernilai 0,001422 </strong><br /> </p>"
   ]
  },
  {
   "cell_type": "code",
   "execution_count": 38,
   "metadata": {},
   "outputs": [
    {
     "data": {
      "text/plain": [
       "\n",
       "\tPaired t-test\n",
       "\n",
       "data:  Q2 and Q3\n",
       "t = 3.2081, df = 499, p-value = 0.001422\n",
       "alternative hypothesis: true difference in means is not equal to 0\n",
       "99 percent confidence interval:\n",
       " 0.01668322 0.15531678\n",
       "sample estimates:\n",
       "mean of the differences \n",
       "                  0.086 \n"
      ]
     },
     "metadata": {},
     "output_type": "display_data"
    }
   ],
   "source": [
    "t.test(Q2, Q3, mu=0, alt=\"two.sided\", paired=T, conf.level=0.99)"
   ]
  },
  {
   "cell_type": "markdown",
   "metadata": {},
   "source": [
    "<p><strong>Data Paired T-test Q2 dan Q4 terdapat perbedaan rata&rdquo; pada kedua sample ialah 0,47, dari rata&rdquo; perbedaan kedua sample besar dari 499 sampel ukuran (df) yang menghasilkan nilai t = 12,835 yang secara statistic nilai p bernilai < 2.2e-16 </strong><br /> </p> "
   ]
  },
  {
   "cell_type": "code",
   "execution_count": 39,
   "metadata": {},
   "outputs": [
    {
     "data": {
      "text/plain": [
       "\n",
       "\tPaired t-test\n",
       "\n",
       "data:  Q2 and Q4\n",
       "t = 12.835, df = 499, p-value < 2.2e-16\n",
       "alternative hypothesis: true difference in means is not equal to 0\n",
       "99 percent confidence interval:\n",
       " 0.3753161 0.5646839\n",
       "sample estimates:\n",
       "mean of the differences \n",
       "                   0.47 \n"
      ]
     },
     "metadata": {},
     "output_type": "display_data"
    }
   ],
   "source": [
    "t.test(Q2, Q4, mu=0, alt=\"two.sided\", paired=T, conf.level=0.99)"
   ]
  },
  {
   "cell_type": "markdown",
   "metadata": {},
   "source": [
    "<p><strong>Data Paired T-test Q2 dan Q5 terdapat perbedaan rata&rdquo; pada kedua sample ialah 0,348, dari rata&rdquo; perbedaan kedua sample besar dari 499 sampel ukuran (df) yang menghasilkan nilai t = 9,7561 yang secara statistic nilai p bernilai < 2.2e-16 </strong><br /> </p> "
   ]
  },
  {
   "cell_type": "code",
   "execution_count": 40,
   "metadata": {},
   "outputs": [
    {
     "data": {
      "text/plain": [
       "\n",
       "\tPaired t-test\n",
       "\n",
       "data:  Q2 and Q5\n",
       "t = 9.7561, df = 499, p-value < 2.2e-16\n",
       "alternative hypothesis: true difference in means is not equal to 0\n",
       "99 percent confidence interval:\n",
       " 0.2557679 0.4402321\n",
       "sample estimates:\n",
       "mean of the differences \n",
       "                  0.348 \n"
      ]
     },
     "metadata": {},
     "output_type": "display_data"
    }
   ],
   "source": [
    "t.test(Q2, Q5, mu=0, alt=\"two.sided\", paired=T, conf.level=0.99)"
   ]
  },
  {
   "cell_type": "markdown",
   "metadata": {},
   "source": [
    "<p><strong>Data Paired T-test Q2 dan Q6 terdapat perbedaan rata&rdquo; pada kedua sample ialah 0,656, dari rata&rdquo; perbedaan kedua sample besar dari 499 sampel ukuran (df) yang menghasilkan nilai t = 13,172 yang secara statistic nilai p bernilai < 2.2e-16 </strong><br /> </p> "
   ]
  },
  {
   "cell_type": "code",
   "execution_count": 41,
   "metadata": {},
   "outputs": [
    {
     "data": {
      "text/plain": [
       "\n",
       "\tPaired t-test\n",
       "\n",
       "data:  Q2 and Q6\n",
       "t = 13.172, df = 499, p-value < 2.2e-16\n",
       "alternative hypothesis: true difference in means is not equal to 0\n",
       "99 percent confidence interval:\n",
       " 0.5272248 0.7847752\n",
       "sample estimates:\n",
       "mean of the differences \n",
       "                  0.656 \n"
      ]
     },
     "metadata": {},
     "output_type": "display_data"
    }
   ],
   "source": [
    "t.test(Q2, Q6, mu=0, alt=\"two.sided\", paired=T, conf.level=0.99)"
   ]
  },
  {
   "cell_type": "markdown",
   "metadata": {},
   "source": [
    "<p><strong>Data Paired T-test Q2 dan Q7 terdapat perbedaan rata&rdquo; pada kedua sample ialah 0,834, dari rata&rdquo; perbedaan kedua sample besar dari 499 sampel ukuran (df) yang menghasilkan nilai t = 17,841 yang secara statistic nilai p bernilai < 2.2e-16 </strong><br /> </p> "
   ]
  },
  {
   "cell_type": "code",
   "execution_count": 42,
   "metadata": {},
   "outputs": [
    {
     "data": {
      "text/plain": [
       "\n",
       "\tPaired t-test\n",
       "\n",
       "data:  Q2 and Q7\n",
       "t = 17.841, df = 499, p-value < 2.2e-16\n",
       "alternative hypothesis: true difference in means is not equal to 0\n",
       "99 percent confidence interval:\n",
       " 0.7131261 0.9548739\n",
       "sample estimates:\n",
       "mean of the differences \n",
       "                  0.834 \n"
      ]
     },
     "metadata": {},
     "output_type": "display_data"
    }
   ],
   "source": [
    "t.test(Q2, Q7, mu=0, alt=\"two.sided\", paired=T, conf.level=0.99)"
   ]
  },
  {
   "cell_type": "markdown",
   "metadata": {},
   "source": [
    "<p><strong>Data Paired T-test Q2 dan Q8 terdapat perbedaan rata&rdquo; pada kedua sample ialah 0,546, dari rata&rdquo; perbedaan kedua sample besar dari 499 sampel ukuran (df) yang menghasilkan nilai t = 12,717 yang secara statistic nilai p bernilai < 2.2e-16 </strong><br /> </p> "
   ]
  },
  {
   "cell_type": "code",
   "execution_count": 43,
   "metadata": {},
   "outputs": [
    {
     "data": {
      "text/plain": [
       "\n",
       "\tPaired t-test\n",
       "\n",
       "data:  Q2 and Q8\n",
       "t = 12.717, df = 499, p-value < 2.2e-16\n",
       "alternative hypothesis: true difference in means is not equal to 0\n",
       "99 percent confidence interval:\n",
       " 0.434981 0.657019\n",
       "sample estimates:\n",
       "mean of the differences \n",
       "                  0.546 \n"
      ]
     },
     "metadata": {},
     "output_type": "display_data"
    }
   ],
   "source": [
    "t.test(Q2, Q8, mu=0, alt=\"two.sided\", paired=T, conf.level=0.99)"
   ]
  },
  {
   "cell_type": "markdown",
   "metadata": {},
   "source": [
    "<p><strong>Data Paired T-test Q2 dan Q9 terdapat perbedaan rata&rdquo; pada kedua sample ialah 0,376, dari rata&rdquo; perbedaan kedua sample besar dari 499 sampel ukuran (df) yang menghasilkan nilai t = 10,856 yang secara statistic nilai p bernilai < 2.2e-16 </strong><br /> </p> "
   ]
  },
  {
   "cell_type": "code",
   "execution_count": 44,
   "metadata": {},
   "outputs": [
    {
     "data": {
      "text/plain": [
       "\n",
       "\tPaired t-test\n",
       "\n",
       "data:  Q2 and Q9\n",
       "t = 10.856, df = 499, p-value < 2.2e-16\n",
       "alternative hypothesis: true difference in means is not equal to 0\n",
       "99 percent confidence interval:\n",
       " 0.2864413 0.4655587\n",
       "sample estimates:\n",
       "mean of the differences \n",
       "                  0.376 \n"
      ]
     },
     "metadata": {},
     "output_type": "display_data"
    }
   ],
   "source": [
    "t.test(Q2, Q9, mu=0, alt=\"two.sided\", paired=T, conf.level=0.99)"
   ]
  },
  {
   "cell_type": "markdown",
   "metadata": {},
   "source": [
    "<p><strong>Data Paired T-test Q2 dan Q10 terdapat perbedaan rata&rdquo; pada kedua sample ialah 0,222, dari rata&rdquo; perbedaan kedua sample besar dari 499 sampel ukuran (df) yang menghasilkan nilai t = 6,5529 yang secara statistic nilai p bernilai 1.409e-10 </strong><br /> </p> "
   ]
  },
  {
   "cell_type": "code",
   "execution_count": 45,
   "metadata": {},
   "outputs": [
    {
     "data": {
      "text/plain": [
       "\n",
       "\tPaired t-test\n",
       "\n",
       "data:  Q2 and Q10\n",
       "t = 6.5529, df = 499, p-value = 1.409e-10\n",
       "alternative hypothesis: true difference in means is not equal to 0\n",
       "99 percent confidence interval:\n",
       " 0.1344007 0.3095993\n",
       "sample estimates:\n",
       "mean of the differences \n",
       "                  0.222 \n"
      ]
     },
     "metadata": {},
     "output_type": "display_data"
    }
   ],
   "source": [
    "t.test(Q2, Q10, mu=0, alt=\"two.sided\", paired=T, conf.level=0.99)"
   ]
  },
  {
   "cell_type": "markdown",
   "metadata": {},
   "source": [
    "<p><strong>Data Paired T-test Q3 dan Q4 terdapat perbedaan rata&rdquo; pada kedua sample ialah 0,384, dari rata&rdquo; perbedaan kedua sample besar dari 499 sampel ukuran (df) yang menghasilkan nilai t = 10,619 yang secara statistic nilai p bernilai < 2.2e-16 </strong><br /> </p> "
   ]
  },
  {
   "cell_type": "code",
   "execution_count": 46,
   "metadata": {},
   "outputs": [
    {
     "data": {
      "text/plain": [
       "\n",
       "\tPaired t-test\n",
       "\n",
       "data:  Q3 and Q4\n",
       "t = 10.619, df = 499, p-value < 2.2e-16\n",
       "alternative hypothesis: true difference in means is not equal to 0\n",
       "99 percent confidence interval:\n",
       " 0.2904948 0.4775052\n",
       "sample estimates:\n",
       "mean of the differences \n",
       "                  0.384 \n"
      ]
     },
     "metadata": {},
     "output_type": "display_data"
    }
   ],
   "source": [
    "t.test(Q3, Q4, mu=0, alt=\"two.sided\", paired=T, conf.level=0.99)"
   ]
  },
  {
   "cell_type": "markdown",
   "metadata": {},
   "source": [
    "<p><strong>Data Paired T-test Q3 dan Q5 terdapat perbedaan rata&rdquo; pada kedua sample ialah 0,262, dari rata&rdquo; perbedaan kedua sample besar dari 499 sampel ukuran (df) yang menghasilkan nilai t = 7,6496 yang secara statistic nilai p bernilai 1.046e-13  </strong><br /> </p> "
   ]
  },
  {
   "cell_type": "code",
   "execution_count": 47,
   "metadata": {},
   "outputs": [
    {
     "data": {
      "text/plain": [
       "\n",
       "\tPaired t-test\n",
       "\n",
       "data:  Q3 and Q5\n",
       "t = 7.6496, df = 499, p-value = 1.046e-13\n",
       "alternative hypothesis: true difference in means is not equal to 0\n",
       "99 percent confidence interval:\n",
       " 0.1734393 0.3505607\n",
       "sample estimates:\n",
       "mean of the differences \n",
       "                  0.262 \n"
      ]
     },
     "metadata": {},
     "output_type": "display_data"
    }
   ],
   "source": [
    "t.test(Q3, Q5, mu=0, alt=\"two.sided\", paired=T, conf.level=0.99)"
   ]
  },
  {
   "cell_type": "markdown",
   "metadata": {},
   "source": [
    "<p><strong>Data Paired T-test Q3 dan Q6 terdapat perbedaan rata&rdquo; pada kedua sample ialah 0,262, dari rata&rdquo; perbedaan kedua sample besar dari 499 sampel ukuran (df) yang menghasilkan nilai t = 7,6496 yang secara statistic nilai p bernilai 1.046e-13  </strong><br /> </p> "
   ]
  },
  {
   "cell_type": "code",
   "execution_count": 48,
   "metadata": {},
   "outputs": [
    {
     "data": {
      "text/plain": [
       "\n",
       "\tPaired t-test\n",
       "\n",
       "data:  Q3 and Q6\n",
       "t = 12.179, df = 499, p-value < 2.2e-16\n",
       "alternative hypothesis: true difference in means is not equal to 0\n",
       "99 percent confidence interval:\n",
       " 0.448979 0.691021\n",
       "sample estimates:\n",
       "mean of the differences \n",
       "                   0.57 \n"
      ]
     },
     "metadata": {},
     "output_type": "display_data"
    }
   ],
   "source": [
    "t.test(Q3, Q6, mu=0, alt=\"two.sided\", paired=T, conf.level=0.99)"
   ]
  },
  {
   "cell_type": "markdown",
   "metadata": {},
   "source": [
    "<p><strong>Data Paired T-test Q3 dan Q7 terdapat perbedaan rata&rdquo; pada kedua sample ialah 0,748, dari rata&rdquo; perbedaan kedua sample besar dari 499 sampel ukuran (df) yang menghasilkan nilai t = 16,104 yang secara statistic nilai p bernilai < 2.2e-16  </strong><br /> </p> "
   ]
  },
  {
   "cell_type": "code",
   "execution_count": 49,
   "metadata": {},
   "outputs": [
    {
     "data": {
      "text/plain": [
       "\n",
       "\tPaired t-test\n",
       "\n",
       "data:  Q3 and Q7\n",
       "t = 16.104, df = 499, p-value < 2.2e-16\n",
       "alternative hypothesis: true difference in means is not equal to 0\n",
       "99 percent confidence interval:\n",
       " 0.6279016 0.8680984\n",
       "sample estimates:\n",
       "mean of the differences \n",
       "                  0.748 \n"
      ]
     },
     "metadata": {},
     "output_type": "display_data"
    }
   ],
   "source": [
    "t.test(Q3, Q7, mu=0, alt=\"two.sided\", paired=T, conf.level=0.99)"
   ]
  },
  {
   "cell_type": "markdown",
   "metadata": {},
   "source": [
    "<p><strong>Data Paired T-test Q3 dan Q8 terdapat perbedaan rata&rdquo; pada kedua sample ialah 0,46, dari rata&rdquo; perbedaan kedua sample besar dari 499 sampel ukuran (df) yang menghasilkan nilai t = 11,753 yang secara statistic nilai p bernilai < 2.2e-16 </strong><br /> </p> "
   ]
  },
  {
   "cell_type": "code",
   "execution_count": 27,
   "metadata": {},
   "outputs": [
    {
     "data": {
      "text/plain": [
       "\n",
       "\tPaired t-test\n",
       "\n",
       "data:  Q3 and Q8\n",
       "t = 11.753, df = 499, p-value < 2.2e-16\n",
       "alternative hypothesis: true difference in means is not equal to 0\n",
       "99 percent confidence interval:\n",
       " 0.3587975 0.5612025\n",
       "sample estimates:\n",
       "mean of the differences \n",
       "                   0.46 \n"
      ]
     },
     "metadata": {},
     "output_type": "display_data"
    }
   ],
   "source": [
    "t.test(Q3, Q8, mu=0, alt=\"two.sided\", paired=T, conf.level=0.99)"
   ]
  },
  {
   "cell_type": "markdown",
   "metadata": {},
   "source": [
    "<p><strong>Data Paired T-test Q3 dan Q9 terdapat perbedaan rata&rdquo; pada kedua sample ialah 0,29, dari rata&rdquo; perbedaan kedua sample besar dari 499 sampel ukuran (df) yang menghasilkan nilai t = 8,111 yang secara statistic nilai p bernilai 3.926e-15 </strong><br /> </p> "
   ]
  },
  {
   "cell_type": "code",
   "execution_count": 35,
   "metadata": {},
   "outputs": [
    {
     "data": {
      "text/plain": [
       "\n",
       "\tPaired t-test\n",
       "\n",
       "data:  Q3 and Q9\n",
       "t = 8.111, df = 499, p-value = 3.926e-15\n",
       "alternative hypothesis: true difference in means is not equal to 0\n",
       "99 percent confidence interval:\n",
       " 0.19755 0.38245\n",
       "sample estimates:\n",
       "mean of the differences \n",
       "                   0.29 \n"
      ]
     },
     "metadata": {},
     "output_type": "display_data"
    }
   ],
   "source": [
    "t.test(Q3, Q9, mu=0, alt=\"two.sided\", paired=T, conf.level=0.99)"
   ]
  },
  {
   "cell_type": "markdown",
   "metadata": {},
   "source": [
    "<p><strong>Data Paired T-test Q3 dan Q10 terdapat perbedaan rata&rdquo; pada kedua sample ialah 0,136, dari rata&rdquo; perbedaan kedua sample besar dari 499 sampel ukuran (df) yang menghasilkan nilai t = 4,2231 yang secara statistic nilai p bernilai 2.864e-05 </strong><br /> </p> "
   ]
  },
  {
   "cell_type": "code",
   "execution_count": 36,
   "metadata": {},
   "outputs": [
    {
     "data": {
      "text/plain": [
       "\n",
       "\tPaired t-test\n",
       "\n",
       "data:  Q3 and Q10\n",
       "t = 4.2231, df = 499, p-value = 2.864e-05\n",
       "alternative hypothesis: true difference in means is not equal to 0\n",
       "99 percent confidence interval:\n",
       " 0.05273017 0.21926983\n",
       "sample estimates:\n",
       "mean of the differences \n",
       "                  0.136 \n"
      ]
     },
     "metadata": {},
     "output_type": "display_data"
    }
   ],
   "source": [
    "t.test(Q3, Q10, mu=0, alt=\"two.sided\", paired=T, conf.level=0.99)"
   ]
  },
  {
   "cell_type": "markdown",
   "metadata": {},
   "source": [
    "<p><strong>Data Paired T-test Q4 dan Q5 terdapat perbedaan rata&rdquo; pada kedua sample ialah -0,122, dari rata&rdquo; perbedaan kedua sample besar dari 499 sampel ukuran (df) yang menghasilkan nilai t = -3,4197 yang secara statistic nilai p bernilai 0.0006784 </strong><br /> </p> "
   ]
  },
  {
   "cell_type": "code",
   "execution_count": 37,
   "metadata": {},
   "outputs": [
    {
     "data": {
      "text/plain": [
       "\n",
       "\tPaired t-test\n",
       "\n",
       "data:  Q4 and Q5\n",
       "t = -3.4197, df = 499, p-value = 0.0006784\n",
       "alternative hypothesis: true difference in means is not equal to 0\n",
       "99 percent confidence interval:\n",
       " -0.21424809 -0.02975191\n",
       "sample estimates:\n",
       "mean of the differences \n",
       "                 -0.122 \n"
      ]
     },
     "metadata": {},
     "output_type": "display_data"
    }
   ],
   "source": [
    "t.test(Q4, Q5, mu=0, alt=\"two.sided\", paired=T, conf.level=0.99)"
   ]
  },
  {
   "cell_type": "markdown",
   "metadata": {},
   "source": [
    "<p><strong>Data Paired T-test Q4 dan Q6 terdapat perbedaan rata&rdquo; pada kedua sample ialah 0,186, dari rata&rdquo; perbedaan kedua sample besar dari 499 sampel ukuran (df) yang menghasilkan nilai t = 4,1233 yang secara statistic nilai p bernilai 4.374e-05 </strong><br /> </p> "
   ]
  },
  {
   "cell_type": "code",
   "execution_count": 38,
   "metadata": {},
   "outputs": [
    {
     "data": {
      "text/plain": [
       "\n",
       "\tPaired t-test\n",
       "\n",
       "data:  Q4 and Q6\n",
       "t = 4.1233, df = 499, p-value = 4.374e-05\n",
       "alternative hypothesis: true difference in means is not equal to 0\n",
       "99 percent confidence interval:\n",
       " 0.06935926 0.30264074\n",
       "sample estimates:\n",
       "mean of the differences \n",
       "                  0.186 \n"
      ]
     },
     "metadata": {},
     "output_type": "display_data"
    }
   ],
   "source": [
    "t.test(Q4, Q6, mu=0, alt=\"two.sided\", paired=T, conf.level=0.99)"
   ]
  },
  {
   "cell_type": "markdown",
   "metadata": {},
   "source": [
    "<p><strong>Data Paired T-test Q4 dan Q7 terdapat perbedaan rata&rdquo; pada kedua sample ialah 0,364, dari rata&rdquo; perbedaan kedua sample besar dari 499 sampel ukuran (df) yang menghasilkan nilai t = 7.9295 yang secara statistic nilai p bernilai 1.453e-14 </strong><br /> </p> "
   ]
  },
  {
   "cell_type": "code",
   "execution_count": 39,
   "metadata": {},
   "outputs": [
    {
     "data": {
      "text/plain": [
       "\n",
       "\tPaired t-test\n",
       "\n",
       "data:  Q4 and Q7\n",
       "t = 7.9295, df = 499, p-value = 1.453e-14\n",
       "alternative hypothesis: true difference in means is not equal to 0\n",
       "99 percent confidence interval:\n",
       " 0.2453039 0.4826961\n",
       "sample estimates:\n",
       "mean of the differences \n",
       "                  0.364 \n"
      ]
     },
     "metadata": {},
     "output_type": "display_data"
    }
   ],
   "source": [
    "t.test(Q4, Q7, mu=0, alt=\"two.sided\", paired=T, conf.level=0.99)"
   ]
  },
  {
   "cell_type": "markdown",
   "metadata": {},
   "source": [
    "<p><strong>Data Paired T-test Q4 dan Q8 terdapat perbedaan rata&rdquo; pada kedua sample ialah 0,076, dari rata&rdquo; perbedaan kedua sample besar dari 499 sampel ukuran (df) yang menghasilkan nilai t = 1.8455 yang secara statistic nilai p bernilai 0.06555 </strong><br /> </p> "
   ]
  },
  {
   "cell_type": "code",
   "execution_count": 40,
   "metadata": {},
   "outputs": [
    {
     "data": {
      "text/plain": [
       "\n",
       "\tPaired t-test\n",
       "\n",
       "data:  Q4 and Q8\n",
       "t = 1.8455, df = 499, p-value = 0.06555\n",
       "alternative hypothesis: true difference in means is not equal to 0\n",
       "99 percent confidence interval:\n",
       " -0.03048134  0.18248134\n",
       "sample estimates:\n",
       "mean of the differences \n",
       "                  0.076 \n"
      ]
     },
     "metadata": {},
     "output_type": "display_data"
    }
   ],
   "source": [
    "t.test(Q4, Q8, mu=0, alt=\"two.sided\", paired=T, conf.level=0.99)"
   ]
  },
  {
   "cell_type": "markdown",
   "metadata": {},
   "source": [
    "<p><strong>Data Paired T-test Q4 dan Q9 terdapat perbedaan rata&rdquo; pada kedua sample ialah -0,094, dari rata&rdquo; perbedaan kedua sample besar dari 499 sampel ukuran (df) yang menghasilkan nilai t = -2.6729 yang secara statistic nilai p bernilai 0.007767 </strong><br /> </p> "
   ]
  },
  {
   "cell_type": "code",
   "execution_count": 41,
   "metadata": {},
   "outputs": [
    {
     "data": {
      "text/plain": [
       "\n",
       "\tPaired t-test\n",
       "\n",
       "data:  Q4 and Q9\n",
       "t = -2.6729, df = 499, p-value = 0.007767\n",
       "alternative hypothesis: true difference in means is not equal to 0\n",
       "99 percent confidence interval:\n",
       " -0.184935011 -0.003064989\n",
       "sample estimates:\n",
       "mean of the differences \n",
       "                 -0.094 \n"
      ]
     },
     "metadata": {},
     "output_type": "display_data"
    }
   ],
   "source": [
    "t.test(Q4, Q9, mu=0, alt=\"two.sided\", paired=T, conf.level=0.99)"
   ]
  },
  {
   "cell_type": "markdown",
   "metadata": {},
   "source": [
    "<p><strong>Data Paired T-test Q4 dan Q10 terdapat perbedaan rata&rdquo; pada kedua sample ialah -0,248, dari rata&rdquo; perbedaan kedua sample besar dari 499 sampel ukuran (df) yang menghasilkan nilai t = -6.6286 yang secara statistic nilai p bernilai 8.814e-11 </strong><br /> </p> "
   ]
  },
  {
   "cell_type": "code",
   "execution_count": 42,
   "metadata": {},
   "outputs": [
    {
     "data": {
      "text/plain": [
       "\n",
       "\tPaired t-test\n",
       "\n",
       "data:  Q4 and Q10\n",
       "t = -6.6286, df = 499, p-value = 8.814e-11\n",
       "alternative hypothesis: true difference in means is not equal to 0\n",
       "99 percent confidence interval:\n",
       " -0.3447415 -0.1512585\n",
       "sample estimates:\n",
       "mean of the differences \n",
       "                 -0.248 \n"
      ]
     },
     "metadata": {},
     "output_type": "display_data"
    }
   ],
   "source": [
    "t.test(Q4, Q10, mu=0, alt=\"two.sided\", paired=T, conf.level=0.99)"
   ]
  },
  {
   "cell_type": "markdown",
   "metadata": {},
   "source": [
    "<p><strong>Data Paired T-test Q4 dan Q10 terdapat perbedaan rata&rdquo; pada kedua sample ialah -0,248, dari rata&rdquo; perbedaan kedua sample besar dari 499 sampel ukuran (df) yang menghasilkan nilai t = -6.6286 yang secara statistic nilai p bernilai 8.814e-11 </strong><br /> </p> "
   ]
  },
  {
   "cell_type": "code",
   "execution_count": 43,
   "metadata": {},
   "outputs": [
    {
     "data": {
      "text/plain": [
       "\n",
       "\tPaired t-test\n",
       "\n",
       "data:  Q5 and Q6\n",
       "t = 6.6416, df = 499, p-value = 8.127e-11\n",
       "alternative hypothesis: true difference in means is not equal to 0\n",
       "99 percent confidence interval:\n",
       " 0.1880892 0.4279108\n",
       "sample estimates:\n",
       "mean of the differences \n",
       "                  0.308 \n"
      ]
     },
     "metadata": {},
     "output_type": "display_data"
    }
   ],
   "source": [
    "t.test(Q5, Q6, mu=0, alt=\"two.sided\", paired=T, conf.level=0.99)"
   ]
  },
  {
   "cell_type": "markdown",
   "metadata": {},
   "source": [
    "<p><strong>Data Paired T-test Q5 dan Q7 terdapat perbedaan rata&rdquo; pada kedua sample ialah 0,486, dari rata&rdquo; perbedaan kedua sample besar dari 499 sampel ukuran (df) yang menghasilkan nilai t = 9.9529 yang secara statistic nilai p bernilai < 2.2e-16 </strong><br /> </p> "
   ]
  },
  {
   "cell_type": "code",
   "execution_count": 44,
   "metadata": {},
   "outputs": [
    {
     "data": {
      "text/plain": [
       "\n",
       "\tPaired t-test\n",
       "\n",
       "data:  Q5 and Q7\n",
       "t = 9.9529, df = 499, p-value < 2.2e-16\n",
       "alternative hypothesis: true difference in means is not equal to 0\n",
       "99 percent confidence interval:\n",
       " 0.3597392 0.6122608\n",
       "sample estimates:\n",
       "mean of the differences \n",
       "                  0.486 \n"
      ]
     },
     "metadata": {},
     "output_type": "display_data"
    }
   ],
   "source": [
    "t.test(Q5, Q7, mu=0, alt=\"two.sided\", paired=T, conf.level=0.99)"
   ]
  },
  {
   "cell_type": "markdown",
   "metadata": {},
   "source": [
    "<p><strong>Data Paired T-test Q5 dan Q8 terdapat perbedaan rata&rdquo; pada kedua sample ialah 0,198, dari rata&rdquo; perbedaan kedua sample besar dari 499 sampel ukuran (df) yang menghasilkan nilai t = 4.5265 yang secara statistic nilai p bernilai 7.507e-06 </strong><br /> </p> "
   ]
  },
  {
   "cell_type": "code",
   "execution_count": 45,
   "metadata": {},
   "outputs": [
    {
     "data": {
      "text/plain": [
       "\n",
       "\tPaired t-test\n",
       "\n",
       "data:  Q5 and Q8\n",
       "t = 4.5265, df = 499, p-value = 7.507e-06\n",
       "alternative hypothesis: true difference in means is not equal to 0\n",
       "99 percent confidence interval:\n",
       " 0.08489387 0.31110613\n",
       "sample estimates:\n",
       "mean of the differences \n",
       "                  0.198 \n"
      ]
     },
     "metadata": {},
     "output_type": "display_data"
    }
   ],
   "source": [
    "t.test(Q5, Q8, mu=0, alt=\"two.sided\", paired=T, conf.level=0.99)"
   ]
  },
  {
   "cell_type": "markdown",
   "metadata": {},
   "source": [
    "<p><strong>Data Paired T-test Q5 dan Q9 terdapat perbedaan rata&rdquo; pada kedua sample ialah 0,028, dari rata&rdquo; perbedaan kedua sample besar dari 499 sampel ukuran (df) yang menghasilkan nilai t = 0.76118 yang secara statistic nilai p bernilai 0,4469 </strong><br /> </p> "
   ]
  },
  {
   "cell_type": "code",
   "execution_count": 46,
   "metadata": {},
   "outputs": [
    {
     "data": {
      "text/plain": [
       "\n",
       "\tPaired t-test\n",
       "\n",
       "data:  Q5 and Q9\n",
       "t = 0.76118, df = 499, p-value = 0.4469\n",
       "alternative hypothesis: true difference in means is not equal to 0\n",
       "99 percent confidence interval:\n",
       " -0.0671157  0.1231157\n",
       "sample estimates:\n",
       "mean of the differences \n",
       "                  0.028 \n"
      ]
     },
     "metadata": {},
     "output_type": "display_data"
    }
   ],
   "source": [
    "t.test(Q5, Q9, mu=0, alt=\"two.sided\", paired=T, conf.level=0.99)"
   ]
  },
  {
   "cell_type": "markdown",
   "metadata": {},
   "source": [
    "<p><strong>Data Paired T-test Q5 dan Q10 terdapat perbedaan rata&rdquo; pada kedua sample ialah -0.126 , dari rata&rdquo; perbedaan kedua sample besar dari 499 sampel ukuran (df) yang menghasilkan nilai t = -3.4908 yang secara statistic nilai p bernilai 0.0005243 </strong><br /> </p> "
   ]
  },
  {
   "cell_type": "code",
   "execution_count": 47,
   "metadata": {},
   "outputs": [
    {
     "data": {
      "text/plain": [
       "\n",
       "\tPaired t-test\n",
       "\n",
       "data:  Q5 and Q10\n",
       "t = -3.4908, df = 499, p-value = 0.0005243\n",
       "alternative hypothesis: true difference in means is not equal to 0\n",
       "99 percent confidence interval:\n",
       " -0.21933165 -0.03266835\n",
       "sample estimates:\n",
       "mean of the differences \n",
       "                 -0.126 \n"
      ]
     },
     "metadata": {},
     "output_type": "display_data"
    }
   ],
   "source": [
    "t.test(Q5, Q10, mu=0, alt=\"two.sided\", paired=T, conf.level=0.99)"
   ]
  },
  {
   "cell_type": "markdown",
   "metadata": {},
   "source": [
    "<p><strong>Data Paired T-test Q6 dan Q7 terdapat perbedaan rata&rdquo; pada kedua sample ialah 0.178 , dari rata&rdquo; perbedaan kedua sample besar dari 499 sampel ukuran (df) yang menghasilkan nilai t = 4.2427 yang secara statistic nilai p bernilai 2.633e-05 </strong><br /> </p> "
   ]
  },
  {
   "cell_type": "code",
   "execution_count": 48,
   "metadata": {},
   "outputs": [
    {
     "data": {
      "text/plain": [
       "\n",
       "\tPaired t-test\n",
       "\n",
       "data:  Q6 and Q7\n",
       "t = 4.2427, df = 499, p-value = 2.633e-05\n",
       "alternative hypothesis: true difference in means is not equal to 0\n",
       "99 percent confidence interval:\n",
       " 0.06951836 0.28648164\n",
       "sample estimates:\n",
       "mean of the differences \n",
       "                  0.178 \n"
      ]
     },
     "metadata": {},
     "output_type": "display_data"
    }
   ],
   "source": [
    "t.test(Q6, Q7, mu=0, alt=\"two.sided\", paired=T, conf.level=0.99)"
   ]
  },
  {
   "cell_type": "markdown",
   "metadata": {},
   "source": [
    "<p><strong>Data Paired T-test Q6 dan Q8 terdapat perbedaan rata&rdquo; pada kedua sample ialah -0.11, dari rata&rdquo; perbedaan kedua sample besar dari 499 sampel ukuran (df) yang menghasilkan nilai t = -2.5106 yang secara statistic nilai p bernilai 0.01237 </strong><br /> </p> "
   ]
  },
  {
   "cell_type": "code",
   "execution_count": 49,
   "metadata": {},
   "outputs": [
    {
     "data": {
      "text/plain": [
       "\n",
       "\tPaired t-test\n",
       "\n",
       "data:  Q6 and Q8\n",
       "t = -2.5106, df = 499, p-value = 0.01237\n",
       "alternative hypothesis: true difference in means is not equal to 0\n",
       "99 percent confidence interval:\n",
       " -0.223289828  0.003289828\n",
       "sample estimates:\n",
       "mean of the differences \n",
       "                  -0.11 \n"
      ]
     },
     "metadata": {},
     "output_type": "display_data"
    }
   ],
   "source": [
    "t.test(Q6, Q8, mu=0, alt=\"two.sided\", paired=T, conf.level=0.99)"
   ]
  },
  {
   "cell_type": "markdown",
   "metadata": {},
   "source": [
    "<p><strong>Data Paired T-test Q6 dan Q9 terdapat perbedaan rata&rdquo; pada kedua sample ialah -0.28, dari rata&rdquo; perbedaan kedua sample besar dari 499 sampel ukuran (df) yang menghasilkan nilai t = -6.9173 yang secara statistic nilai p bernilai 1.416e-11 </strong><br /> </p> "
   ]
  },
  {
   "cell_type": "code",
   "execution_count": 50,
   "metadata": {},
   "outputs": [
    {
     "data": {
      "text/plain": [
       "\n",
       "\tPaired t-test\n",
       "\n",
       "data:  Q6 and Q9\n",
       "t = -6.9173, df = 499, p-value = 1.416e-11\n",
       "alternative hypothesis: true difference in means is not equal to 0\n",
       "99 percent confidence interval:\n",
       " -0.384665 -0.175335\n",
       "sample estimates:\n",
       "mean of the differences \n",
       "                  -0.28 \n"
      ]
     },
     "metadata": {},
     "output_type": "display_data"
    }
   ],
   "source": [
    "t.test(Q6, Q9, mu=0, alt=\"two.sided\", paired=T, conf.level=0.99)"
   ]
  },
  {
   "cell_type": "markdown",
   "metadata": {},
   "source": [
    "<p><strong>Data Paired T-test Q6 dan Q10 terdapat perbedaan rata&rdquo; pada kedua sample ialah -0.434, dari rata&rdquo; perbedaan kedua sample besar dari 499 sampel ukuran (df) yang menghasilkan nilai t = -9.6104 yang secara statistic nilai p bernilai < 2.2e-16 </strong><br /> </p> "
   ]
  },
  {
   "cell_type": "code",
   "execution_count": 51,
   "metadata": {},
   "outputs": [
    {
     "data": {
      "text/plain": [
       "\n",
       "\tPaired t-test\n",
       "\n",
       "data:  Q6 and Q10\n",
       "t = -9.6104, df = 499, p-value < 2.2e-16\n",
       "alternative hypothesis: true difference in means is not equal to 0\n",
       "99 percent confidence interval:\n",
       " -0.5507693 -0.3172307\n",
       "sample estimates:\n",
       "mean of the differences \n",
       "                 -0.434 \n"
      ]
     },
     "metadata": {},
     "output_type": "display_data"
    }
   ],
   "source": [
    "t.test(Q6, Q10, mu=0, alt=\"two.sided\", paired=T, conf.level=0.99)"
   ]
  },
  {
   "cell_type": "markdown",
   "metadata": {},
   "source": [
    "<p><strong>Data Paired T-test Q7 dan Q8 terdapat perbedaan rata&rdquo; pada kedua sample ialah -0.288, dari rata&rdquo; perbedaan kedua sample besar dari 499 sampel ukuran (df) yang menghasilkan nilai t = -6.9011 yang secara statistic nilai p bernilai 1.572e-11 </strong><br /> </p> "
   ]
  },
  {
   "cell_type": "code",
   "execution_count": 52,
   "metadata": {},
   "outputs": [
    {
     "data": {
      "text/plain": [
       "\n",
       "\tPaired t-test\n",
       "\n",
       "data:  Q7 and Q8\n",
       "t = -6.9011, df = 499, p-value = 1.572e-11\n",
       "alternative hypothesis: true difference in means is not equal to 0\n",
       "99 percent confidence interval:\n",
       " -0.3959083 -0.1800917\n",
       "sample estimates:\n",
       "mean of the differences \n",
       "                 -0.288 \n"
      ]
     },
     "metadata": {},
     "output_type": "display_data"
    }
   ],
   "source": [
    "t.test(Q7, Q8, mu=0, alt=\"two.sided\", paired=T, conf.level=0.99)"
   ]
  },
  {
   "cell_type": "markdown",
   "metadata": {},
   "source": [
    "<p><strong>Data Paired T-test Q7 dan Q9 terdapat perbedaan rata&rdquo; pada kedua sample ialah -0.458, dari rata&rdquo; perbedaan kedua sample besar dari 499 sampel ukuran (df) yang menghasilkan nilai t = -11.553 yang secara statistic nilai p bernilai < 2.2e-16 </strong><br /> </p> "
   ]
  },
  {
   "cell_type": "code",
   "execution_count": 53,
   "metadata": {},
   "outputs": [
    {
     "data": {
      "text/plain": [
       "\n",
       "\tPaired t-test\n",
       "\n",
       "data:  Q7 and Q9\n",
       "t = -11.553, df = 499, p-value < 2.2e-16\n",
       "alternative hypothesis: true difference in means is not equal to 0\n",
       "99 percent confidence interval:\n",
       " -0.5605072 -0.3554928\n",
       "sample estimates:\n",
       "mean of the differences \n",
       "                 -0.458 \n"
      ]
     },
     "metadata": {},
     "output_type": "display_data"
    }
   ],
   "source": [
    "t.test(Q7, Q9, mu=0, alt=\"two.sided\", paired=T, conf.level=0.99)"
   ]
  },
  {
   "cell_type": "markdown",
   "metadata": {},
   "source": [
    "<p><strong>Data Paired T-test Q7 dan Q10 terdapat perbedaan rata&rdquo; pada kedua sample ialah -0.612, dari rata&rdquo; perbedaan kedua sample besar dari 499 sampel ukuran (df) yang menghasilkan nilai t = -11.553 yang secara statistic nilai p bernilai < 2.2e-16 </strong><br /> </p> "
   ]
  },
  {
   "cell_type": "code",
   "execution_count": 54,
   "metadata": {},
   "outputs": [
    {
     "data": {
      "text/plain": [
       "\n",
       "\tPaired t-test\n",
       "\n",
       "data:  Q7 and Q10\n",
       "t = -13.828, df = 499, p-value < 2.2e-16\n",
       "alternative hypothesis: true difference in means is not equal to 0\n",
       "99 percent confidence interval:\n",
       " -0.7264404 -0.4975596\n",
       "sample estimates:\n",
       "mean of the differences \n",
       "                 -0.612 \n"
      ]
     },
     "metadata": {},
     "output_type": "display_data"
    }
   ],
   "source": [
    "t.test(Q7, Q10, mu=0, alt=\"two.sided\", paired=T, conf.level=0.99)"
   ]
  },
  {
   "cell_type": "markdown",
   "metadata": {},
   "source": [
    "<p><strong>Data Paired T-test Q8 dan Q9 terdapat perbedaan rata&rdquo; pada kedua sample ialah -0.17, dari rata&rdquo; perbedaan kedua sample besar dari 499 sampel ukuran (df) yang menghasilkan nilai t = -4,472 yang secara statistic nilai p bernilai 9.603e-06 </strong><br /> </p> "
   ]
  },
  {
   "cell_type": "code",
   "execution_count": 55,
   "metadata": {},
   "outputs": [
    {
     "data": {
      "text/plain": [
       "\n",
       "\tPaired t-test\n",
       "\n",
       "data:  Q8 and Q9\n",
       "t = -4.472, df = 499, p-value = 9.603e-06\n",
       "alternative hypothesis: true difference in means is not equal to 0\n",
       "99 percent confidence interval:\n",
       " -0.26829436 -0.07170564\n",
       "sample estimates:\n",
       "mean of the differences \n",
       "                  -0.17 \n"
      ]
     },
     "metadata": {},
     "output_type": "display_data"
    }
   ],
   "source": [
    "t.test(Q8, Q9, mu=0, alt=\"two.sided\", paired=T, conf.level=0.99)"
   ]
  },
  {
   "cell_type": "markdown",
   "metadata": {},
   "source": [
    "<p><strong>Data Paired T-test Q8 dan Q10 terdapat perbedaan rata&rdquo; pada kedua sample ialah -0.324, dari rata&rdquo; perbedaan kedua sample besar dari 499 sampel ukuran (df) yang menghasilkan nilai t = -8.4191 yang secara statistic nilai p bernilai 4.048e-16 </strong><br /> </p> "
   ]
  },
  {
   "cell_type": "code",
   "execution_count": 57,
   "metadata": {},
   "outputs": [
    {
     "data": {
      "text/plain": [
       "\n",
       "\tPaired t-test\n",
       "\n",
       "data:  Q8 and Q10\n",
       "t = -8.4191, df = 499, p-value = 4.048e-16\n",
       "alternative hypothesis: true difference in means is not equal to 0\n",
       "99 percent confidence interval:\n",
       " -0.4235085 -0.2244915\n",
       "sample estimates:\n",
       "mean of the differences \n",
       "                 -0.324 \n"
      ]
     },
     "metadata": {},
     "output_type": "display_data"
    }
   ],
   "source": [
    "t.test(Q8, Q10, mu=0, alt=\"two.sided\", paired=T, conf.level=0.99)"
   ]
  },
  {
   "cell_type": "markdown",
   "metadata": {},
   "source": [
    "<p><strong>Data Paired T-test Q9 dan Q10 terdapat perbedaan rata&rdquo; pada kedua sample ialah -0.154, dari rata&rdquo; perbedaan kedua sample besar dari 499 sampel ukuran (df) yang menghasilkan nilai t = -4.5395 yang secara statistic nilai p bernilai 7.075e-06 </strong><br /> </p> "
   ]
  },
  {
   "cell_type": "code",
   "execution_count": 58,
   "metadata": {},
   "outputs": [
    {
     "data": {
      "text/plain": [
       "\n",
       "\tPaired t-test\n",
       "\n",
       "data:  Q9 and Q10\n",
       "t = -4.5395, df = 499, p-value = 7.075e-06\n",
       "alternative hypothesis: true difference in means is not equal to 0\n",
       "99 percent confidence interval:\n",
       " -0.2417191 -0.0662809\n",
       "sample estimates:\n",
       "mean of the differences \n",
       "                 -0.154 \n"
      ]
     },
     "metadata": {},
     "output_type": "display_data"
    }
   ],
   "source": [
    "t.test(Q9, Q10, mu=0, alt=\"two.sided\", paired=T, conf.level=0.99)"
   ]
  },
  {
   "cell_type": "markdown",
   "metadata": {},
   "source": [
    "# 3. Uji data menggunakan Principal Component Analysis\n"
   ]
  },
  {
   "cell_type": "code",
   "execution_count": 55,
   "metadata": {},
   "outputs": [],
   "source": [
    "datasurvey<-read.csv('Kelompok-10.csv')"
   ]
  },
  {
   "cell_type": "code",
   "execution_count": 56,
   "metadata": {},
   "outputs": [
    {
     "data": {
      "text/html": [
       "<table>\n",
       "<thead><tr><th scope=col>Q1</th><th scope=col>Q2</th><th scope=col>Q3</th><th scope=col>Q4</th><th scope=col>Q5</th><th scope=col>Q6</th><th scope=col>Q7</th><th scope=col>Q8</th><th scope=col>Q9</th><th scope=col>Q10</th></tr></thead>\n",
       "<tbody>\n",
       "\t<tr><td>4</td><td>4</td><td>4</td><td>4</td><td>4</td><td>4</td><td>4</td><td>4</td><td>4</td><td>4</td></tr>\n",
       "\t<tr><td>4</td><td>4</td><td>4</td><td>4</td><td>4</td><td>4</td><td>4</td><td>4</td><td>4</td><td>4</td></tr>\n",
       "\t<tr><td>5</td><td>5</td><td>5</td><td>4</td><td>4</td><td>4</td><td>3</td><td>3</td><td>4</td><td>4</td></tr>\n",
       "\t<tr><td>5</td><td>4</td><td>3</td><td>4</td><td>4</td><td>5</td><td>3</td><td>3</td><td>4</td><td>3</td></tr>\n",
       "\t<tr><td>5</td><td>4</td><td>4</td><td>4</td><td>4</td><td>4</td><td>4</td><td>4</td><td>4</td><td>4</td></tr>\n",
       "\t<tr><td>5</td><td>4</td><td>5</td><td>4</td><td>4</td><td>4</td><td>4</td><td>4</td><td>4</td><td>4</td></tr>\n",
       "\t<tr><td>5</td><td>4</td><td>5</td><td>4</td><td>4</td><td>5</td><td>4</td><td>5</td><td>4</td><td>4</td></tr>\n",
       "\t<tr><td>5</td><td>5</td><td>5</td><td>5</td><td>5</td><td>5</td><td>5</td><td>5</td><td>5</td><td>5</td></tr>\n",
       "\t<tr><td>5</td><td>5</td><td>5</td><td>4</td><td>4</td><td>5</td><td>4</td><td>5</td><td>5</td><td>5</td></tr>\n",
       "\t<tr><td>4</td><td>4</td><td>4</td><td>4</td><td>4</td><td>4</td><td>4</td><td>4</td><td>4</td><td>4</td></tr>\n",
       "\t<tr><td>4</td><td>4</td><td>4</td><td>4</td><td>4</td><td>4</td><td>4</td><td>4</td><td>4</td><td>4</td></tr>\n",
       "\t<tr><td>5</td><td>5</td><td>5</td><td>5</td><td>5</td><td>4</td><td>4</td><td>3</td><td>5</td><td>5</td></tr>\n",
       "\t<tr><td>4</td><td>4</td><td>4</td><td>4</td><td>4</td><td>4</td><td>3</td><td>4</td><td>4</td><td>1</td></tr>\n",
       "\t<tr><td>5</td><td>5</td><td>4</td><td>3</td><td>3</td><td>4</td><td>3</td><td>4</td><td>4</td><td>5</td></tr>\n",
       "\t<tr><td>4</td><td>4</td><td>5</td><td>3</td><td>4</td><td>2</td><td>2</td><td>3</td><td>3</td><td>3</td></tr>\n",
       "\t<tr><td>5</td><td>4</td><td>4</td><td>4</td><td>4</td><td>4</td><td>4</td><td>4</td><td>4</td><td>4</td></tr>\n",
       "\t<tr><td>5</td><td>5</td><td>5</td><td>4</td><td>5</td><td>5</td><td>5</td><td>4</td><td>5</td><td>5</td></tr>\n",
       "\t<tr><td>5</td><td>5</td><td>5</td><td>5</td><td>5</td><td>5</td><td>5</td><td>5</td><td>5</td><td>5</td></tr>\n",
       "\t<tr><td>4</td><td>4</td><td>3</td><td>4</td><td>3</td><td>5</td><td>4</td><td>4</td><td>4</td><td>4</td></tr>\n",
       "\t<tr><td>4</td><td>4</td><td>4</td><td>4</td><td>4</td><td>4</td><td>4</td><td>4</td><td>4</td><td>4</td></tr>\n",
       "\t<tr><td>4</td><td>4</td><td>3</td><td>4</td><td>5</td><td>4</td><td>3</td><td>4</td><td>3</td><td>3</td></tr>\n",
       "\t<tr><td>5</td><td>5</td><td>5</td><td>5</td><td>5</td><td>5</td><td>5</td><td>5</td><td>5</td><td>5</td></tr>\n",
       "\t<tr><td>4</td><td>4</td><td>4</td><td>4</td><td>4</td><td>4</td><td>4</td><td>4</td><td>4</td><td>4</td></tr>\n",
       "\t<tr><td>4</td><td>4</td><td>4</td><td>4</td><td>4</td><td>4</td><td>4</td><td>4</td><td>4</td><td>4</td></tr>\n",
       "\t<tr><td>5</td><td>5</td><td>5</td><td>5</td><td>5</td><td>4</td><td>4</td><td>4</td><td>5</td><td>4</td></tr>\n",
       "\t<tr><td>4</td><td>5</td><td>5</td><td>4</td><td>4</td><td>4</td><td>4</td><td>4</td><td>4</td><td>4</td></tr>\n",
       "\t<tr><td>4</td><td>5</td><td>5</td><td>4</td><td>4</td><td>4</td><td>3</td><td>4</td><td>4</td><td>4</td></tr>\n",
       "\t<tr><td>5</td><td>3</td><td>4</td><td>2</td><td>4</td><td>4</td><td>4</td><td>2</td><td>2</td><td>4</td></tr>\n",
       "\t<tr><td>4</td><td>4</td><td>3</td><td>4</td><td>3</td><td>5</td><td>4</td><td>4</td><td>4</td><td>4</td></tr>\n",
       "\t<tr><td>4</td><td>4</td><td>4</td><td>4</td><td>4</td><td>4</td><td>4</td><td>4</td><td>4</td><td>4</td></tr>\n",
       "\t<tr><td>...</td><td>...</td><td>...</td><td>...</td><td>...</td><td>...</td><td>...</td><td>...</td><td>...</td><td>...</td></tr>\n",
       "\t<tr><td>4</td><td>4</td><td>4</td><td>4</td><td>4</td><td>4</td><td>4</td><td>4</td><td>4</td><td>4</td></tr>\n",
       "\t<tr><td>3</td><td>5</td><td>5</td><td>5</td><td>5</td><td>2</td><td>2</td><td>4</td><td>4</td><td>4</td></tr>\n",
       "\t<tr><td>5</td><td>5</td><td>4</td><td>5</td><td>4</td><td>4</td><td>4</td><td>4</td><td>5</td><td>4</td></tr>\n",
       "\t<tr><td>3</td><td>4</td><td>4</td><td>3</td><td>4</td><td>4</td><td>3</td><td>4</td><td>4</td><td>4</td></tr>\n",
       "\t<tr><td>4</td><td>4</td><td>3</td><td>3</td><td>4</td><td>3</td><td>2</td><td>3</td><td>2</td><td>2</td></tr>\n",
       "\t<tr><td>5</td><td>5</td><td>5</td><td>5</td><td>5</td><td>5</td><td>5</td><td>5</td><td>5</td><td>5</td></tr>\n",
       "\t<tr><td>5</td><td>5</td><td>5</td><td>4</td><td>5</td><td>3</td><td>3</td><td>3</td><td>4</td><td>5</td></tr>\n",
       "\t<tr><td>4</td><td>4</td><td>4</td><td>5</td><td>5</td><td>5</td><td>5</td><td>5</td><td>5</td><td>5</td></tr>\n",
       "\t<tr><td>4</td><td>5</td><td>5</td><td>4</td><td>3</td><td>4</td><td>3</td><td>4</td><td>4</td><td>4</td></tr>\n",
       "\t<tr><td>3</td><td>4</td><td>4</td><td>4</td><td>4</td><td>4</td><td>3</td><td>5</td><td>4</td><td>4</td></tr>\n",
       "\t<tr><td>5</td><td>4</td><td>4</td><td>3</td><td>4</td><td>2</td><td>4</td><td>3</td><td>4</td><td>4</td></tr>\n",
       "\t<tr><td>4</td><td>4</td><td>4</td><td>4</td><td>4</td><td>2</td><td>2</td><td>4</td><td>3</td><td>4</td></tr>\n",
       "\t<tr><td>5</td><td>5</td><td>5</td><td>5</td><td>5</td><td>5</td><td>5</td><td>5</td><td>5</td><td>5</td></tr>\n",
       "\t<tr><td>5</td><td>4</td><td>5</td><td>4</td><td>5</td><td>5</td><td>4</td><td>5</td><td>4</td><td>4</td></tr>\n",
       "\t<tr><td>2</td><td>4</td><td>4</td><td>4</td><td>3</td><td>1</td><td>1</td><td>2</td><td>2</td><td>4</td></tr>\n",
       "\t<tr><td>4</td><td>4</td><td>4</td><td>2</td><td>3</td><td>2</td><td>4</td><td>4</td><td>4</td><td>4</td></tr>\n",
       "\t<tr><td>5</td><td>5</td><td>5</td><td>5</td><td>4</td><td>4</td><td>4</td><td>2</td><td>4</td><td>5</td></tr>\n",
       "\t<tr><td>5</td><td>4</td><td>4</td><td>4</td><td>4</td><td>3</td><td>3</td><td>3</td><td>3</td><td>3</td></tr>\n",
       "\t<tr><td>5</td><td>2</td><td>4</td><td>3</td><td>4</td><td>4</td><td>2</td><td>4</td><td>2</td><td>5</td></tr>\n",
       "\t<tr><td>4</td><td>5</td><td>5</td><td>3</td><td>3</td><td>5</td><td>5</td><td>4</td><td>4</td><td>4</td></tr>\n",
       "\t<tr><td>5</td><td>5</td><td>5</td><td>5</td><td>5</td><td>3</td><td>4</td><td>4</td><td>4</td><td>4</td></tr>\n",
       "\t<tr><td>4</td><td>4</td><td>4</td><td>5</td><td>4</td><td>5</td><td>2</td><td>4</td><td>5</td><td>4</td></tr>\n",
       "\t<tr><td>4</td><td>4</td><td>4</td><td>4</td><td>4</td><td>4</td><td>4</td><td>4</td><td>4</td><td>4</td></tr>\n",
       "\t<tr><td>5</td><td>5</td><td>3</td><td>4</td><td>4</td><td>3</td><td>3</td><td>4</td><td>4</td><td>4</td></tr>\n",
       "\t<tr><td>5</td><td>5</td><td>5</td><td>4</td><td>4</td><td>2</td><td>4</td><td>4</td><td>4</td><td>4</td></tr>\n",
       "\t<tr><td>4</td><td>4</td><td>5</td><td>3</td><td>4</td><td>3</td><td>3</td><td>4</td><td>4</td><td>3</td></tr>\n",
       "\t<tr><td>4</td><td>4</td><td>4</td><td>4</td><td>4</td><td>4</td><td>4</td><td>4</td><td>4</td><td>4</td></tr>\n",
       "\t<tr><td>4</td><td>3</td><td>3</td><td>5</td><td>5</td><td>4</td><td>2</td><td>4</td><td>4</td><td>4</td></tr>\n",
       "\t<tr><td>5</td><td>5</td><td>5</td><td>5</td><td>5</td><td>5</td><td>5</td><td>5</td><td>5</td><td>5</td></tr>\n",
       "\t<tr><td>4</td><td>4</td><td>5</td><td>3</td><td>4</td><td>3</td><td>3</td><td>4</td><td>4</td><td>3</td></tr>\n",
       "</tbody>\n",
       "</table>\n"
      ],
      "text/latex": [
       "\\begin{tabular}{r|llllllllll}\n",
       " Q1 & Q2 & Q3 & Q4 & Q5 & Q6 & Q7 & Q8 & Q9 & Q10\\\\\n",
       "\\hline\n",
       "\t 4 & 4 & 4 & 4 & 4 & 4 & 4 & 4 & 4 & 4\\\\\n",
       "\t 4 & 4 & 4 & 4 & 4 & 4 & 4 & 4 & 4 & 4\\\\\n",
       "\t 5 & 5 & 5 & 4 & 4 & 4 & 3 & 3 & 4 & 4\\\\\n",
       "\t 5 & 4 & 3 & 4 & 4 & 5 & 3 & 3 & 4 & 3\\\\\n",
       "\t 5 & 4 & 4 & 4 & 4 & 4 & 4 & 4 & 4 & 4\\\\\n",
       "\t 5 & 4 & 5 & 4 & 4 & 4 & 4 & 4 & 4 & 4\\\\\n",
       "\t 5 & 4 & 5 & 4 & 4 & 5 & 4 & 5 & 4 & 4\\\\\n",
       "\t 5 & 5 & 5 & 5 & 5 & 5 & 5 & 5 & 5 & 5\\\\\n",
       "\t 5 & 5 & 5 & 4 & 4 & 5 & 4 & 5 & 5 & 5\\\\\n",
       "\t 4 & 4 & 4 & 4 & 4 & 4 & 4 & 4 & 4 & 4\\\\\n",
       "\t 4 & 4 & 4 & 4 & 4 & 4 & 4 & 4 & 4 & 4\\\\\n",
       "\t 5 & 5 & 5 & 5 & 5 & 4 & 4 & 3 & 5 & 5\\\\\n",
       "\t 4 & 4 & 4 & 4 & 4 & 4 & 3 & 4 & 4 & 1\\\\\n",
       "\t 5 & 5 & 4 & 3 & 3 & 4 & 3 & 4 & 4 & 5\\\\\n",
       "\t 4 & 4 & 5 & 3 & 4 & 2 & 2 & 3 & 3 & 3\\\\\n",
       "\t 5 & 4 & 4 & 4 & 4 & 4 & 4 & 4 & 4 & 4\\\\\n",
       "\t 5 & 5 & 5 & 4 & 5 & 5 & 5 & 4 & 5 & 5\\\\\n",
       "\t 5 & 5 & 5 & 5 & 5 & 5 & 5 & 5 & 5 & 5\\\\\n",
       "\t 4 & 4 & 3 & 4 & 3 & 5 & 4 & 4 & 4 & 4\\\\\n",
       "\t 4 & 4 & 4 & 4 & 4 & 4 & 4 & 4 & 4 & 4\\\\\n",
       "\t 4 & 4 & 3 & 4 & 5 & 4 & 3 & 4 & 3 & 3\\\\\n",
       "\t 5 & 5 & 5 & 5 & 5 & 5 & 5 & 5 & 5 & 5\\\\\n",
       "\t 4 & 4 & 4 & 4 & 4 & 4 & 4 & 4 & 4 & 4\\\\\n",
       "\t 4 & 4 & 4 & 4 & 4 & 4 & 4 & 4 & 4 & 4\\\\\n",
       "\t 5 & 5 & 5 & 5 & 5 & 4 & 4 & 4 & 5 & 4\\\\\n",
       "\t 4 & 5 & 5 & 4 & 4 & 4 & 4 & 4 & 4 & 4\\\\\n",
       "\t 4 & 5 & 5 & 4 & 4 & 4 & 3 & 4 & 4 & 4\\\\\n",
       "\t 5 & 3 & 4 & 2 & 4 & 4 & 4 & 2 & 2 & 4\\\\\n",
       "\t 4 & 4 & 3 & 4 & 3 & 5 & 4 & 4 & 4 & 4\\\\\n",
       "\t 4 & 4 & 4 & 4 & 4 & 4 & 4 & 4 & 4 & 4\\\\\n",
       "\t ... & ... & ... & ... & ... & ... & ... & ... & ... & ...\\\\\n",
       "\t 4 & 4 & 4 & 4 & 4 & 4 & 4 & 4 & 4 & 4\\\\\n",
       "\t 3 & 5 & 5 & 5 & 5 & 2 & 2 & 4 & 4 & 4\\\\\n",
       "\t 5 & 5 & 4 & 5 & 4 & 4 & 4 & 4 & 5 & 4\\\\\n",
       "\t 3 & 4 & 4 & 3 & 4 & 4 & 3 & 4 & 4 & 4\\\\\n",
       "\t 4 & 4 & 3 & 3 & 4 & 3 & 2 & 3 & 2 & 2\\\\\n",
       "\t 5 & 5 & 5 & 5 & 5 & 5 & 5 & 5 & 5 & 5\\\\\n",
       "\t 5 & 5 & 5 & 4 & 5 & 3 & 3 & 3 & 4 & 5\\\\\n",
       "\t 4 & 4 & 4 & 5 & 5 & 5 & 5 & 5 & 5 & 5\\\\\n",
       "\t 4 & 5 & 5 & 4 & 3 & 4 & 3 & 4 & 4 & 4\\\\\n",
       "\t 3 & 4 & 4 & 4 & 4 & 4 & 3 & 5 & 4 & 4\\\\\n",
       "\t 5 & 4 & 4 & 3 & 4 & 2 & 4 & 3 & 4 & 4\\\\\n",
       "\t 4 & 4 & 4 & 4 & 4 & 2 & 2 & 4 & 3 & 4\\\\\n",
       "\t 5 & 5 & 5 & 5 & 5 & 5 & 5 & 5 & 5 & 5\\\\\n",
       "\t 5 & 4 & 5 & 4 & 5 & 5 & 4 & 5 & 4 & 4\\\\\n",
       "\t 2 & 4 & 4 & 4 & 3 & 1 & 1 & 2 & 2 & 4\\\\\n",
       "\t 4 & 4 & 4 & 2 & 3 & 2 & 4 & 4 & 4 & 4\\\\\n",
       "\t 5 & 5 & 5 & 5 & 4 & 4 & 4 & 2 & 4 & 5\\\\\n",
       "\t 5 & 4 & 4 & 4 & 4 & 3 & 3 & 3 & 3 & 3\\\\\n",
       "\t 5 & 2 & 4 & 3 & 4 & 4 & 2 & 4 & 2 & 5\\\\\n",
       "\t 4 & 5 & 5 & 3 & 3 & 5 & 5 & 4 & 4 & 4\\\\\n",
       "\t 5 & 5 & 5 & 5 & 5 & 3 & 4 & 4 & 4 & 4\\\\\n",
       "\t 4 & 4 & 4 & 5 & 4 & 5 & 2 & 4 & 5 & 4\\\\\n",
       "\t 4 & 4 & 4 & 4 & 4 & 4 & 4 & 4 & 4 & 4\\\\\n",
       "\t 5 & 5 & 3 & 4 & 4 & 3 & 3 & 4 & 4 & 4\\\\\n",
       "\t 5 & 5 & 5 & 4 & 4 & 2 & 4 & 4 & 4 & 4\\\\\n",
       "\t 4 & 4 & 5 & 3 & 4 & 3 & 3 & 4 & 4 & 3\\\\\n",
       "\t 4 & 4 & 4 & 4 & 4 & 4 & 4 & 4 & 4 & 4\\\\\n",
       "\t 4 & 3 & 3 & 5 & 5 & 4 & 2 & 4 & 4 & 4\\\\\n",
       "\t 5 & 5 & 5 & 5 & 5 & 5 & 5 & 5 & 5 & 5\\\\\n",
       "\t 4 & 4 & 5 & 3 & 4 & 3 & 3 & 4 & 4 & 3\\\\\n",
       "\\end{tabular}\n"
      ],
      "text/markdown": [
       "\n",
       "| Q1 | Q2 | Q3 | Q4 | Q5 | Q6 | Q7 | Q8 | Q9 | Q10 |\n",
       "|---|---|---|---|---|---|---|---|---|---|\n",
       "| 4 | 4 | 4 | 4 | 4 | 4 | 4 | 4 | 4 | 4 |\n",
       "| 4 | 4 | 4 | 4 | 4 | 4 | 4 | 4 | 4 | 4 |\n",
       "| 5 | 5 | 5 | 4 | 4 | 4 | 3 | 3 | 4 | 4 |\n",
       "| 5 | 4 | 3 | 4 | 4 | 5 | 3 | 3 | 4 | 3 |\n",
       "| 5 | 4 | 4 | 4 | 4 | 4 | 4 | 4 | 4 | 4 |\n",
       "| 5 | 4 | 5 | 4 | 4 | 4 | 4 | 4 | 4 | 4 |\n",
       "| 5 | 4 | 5 | 4 | 4 | 5 | 4 | 5 | 4 | 4 |\n",
       "| 5 | 5 | 5 | 5 | 5 | 5 | 5 | 5 | 5 | 5 |\n",
       "| 5 | 5 | 5 | 4 | 4 | 5 | 4 | 5 | 5 | 5 |\n",
       "| 4 | 4 | 4 | 4 | 4 | 4 | 4 | 4 | 4 | 4 |\n",
       "| 4 | 4 | 4 | 4 | 4 | 4 | 4 | 4 | 4 | 4 |\n",
       "| 5 | 5 | 5 | 5 | 5 | 4 | 4 | 3 | 5 | 5 |\n",
       "| 4 | 4 | 4 | 4 | 4 | 4 | 3 | 4 | 4 | 1 |\n",
       "| 5 | 5 | 4 | 3 | 3 | 4 | 3 | 4 | 4 | 5 |\n",
       "| 4 | 4 | 5 | 3 | 4 | 2 | 2 | 3 | 3 | 3 |\n",
       "| 5 | 4 | 4 | 4 | 4 | 4 | 4 | 4 | 4 | 4 |\n",
       "| 5 | 5 | 5 | 4 | 5 | 5 | 5 | 4 | 5 | 5 |\n",
       "| 5 | 5 | 5 | 5 | 5 | 5 | 5 | 5 | 5 | 5 |\n",
       "| 4 | 4 | 3 | 4 | 3 | 5 | 4 | 4 | 4 | 4 |\n",
       "| 4 | 4 | 4 | 4 | 4 | 4 | 4 | 4 | 4 | 4 |\n",
       "| 4 | 4 | 3 | 4 | 5 | 4 | 3 | 4 | 3 | 3 |\n",
       "| 5 | 5 | 5 | 5 | 5 | 5 | 5 | 5 | 5 | 5 |\n",
       "| 4 | 4 | 4 | 4 | 4 | 4 | 4 | 4 | 4 | 4 |\n",
       "| 4 | 4 | 4 | 4 | 4 | 4 | 4 | 4 | 4 | 4 |\n",
       "| 5 | 5 | 5 | 5 | 5 | 4 | 4 | 4 | 5 | 4 |\n",
       "| 4 | 5 | 5 | 4 | 4 | 4 | 4 | 4 | 4 | 4 |\n",
       "| 4 | 5 | 5 | 4 | 4 | 4 | 3 | 4 | 4 | 4 |\n",
       "| 5 | 3 | 4 | 2 | 4 | 4 | 4 | 2 | 2 | 4 |\n",
       "| 4 | 4 | 3 | 4 | 3 | 5 | 4 | 4 | 4 | 4 |\n",
       "| 4 | 4 | 4 | 4 | 4 | 4 | 4 | 4 | 4 | 4 |\n",
       "| ... | ... | ... | ... | ... | ... | ... | ... | ... | ... |\n",
       "| 4 | 4 | 4 | 4 | 4 | 4 | 4 | 4 | 4 | 4 |\n",
       "| 3 | 5 | 5 | 5 | 5 | 2 | 2 | 4 | 4 | 4 |\n",
       "| 5 | 5 | 4 | 5 | 4 | 4 | 4 | 4 | 5 | 4 |\n",
       "| 3 | 4 | 4 | 3 | 4 | 4 | 3 | 4 | 4 | 4 |\n",
       "| 4 | 4 | 3 | 3 | 4 | 3 | 2 | 3 | 2 | 2 |\n",
       "| 5 | 5 | 5 | 5 | 5 | 5 | 5 | 5 | 5 | 5 |\n",
       "| 5 | 5 | 5 | 4 | 5 | 3 | 3 | 3 | 4 | 5 |\n",
       "| 4 | 4 | 4 | 5 | 5 | 5 | 5 | 5 | 5 | 5 |\n",
       "| 4 | 5 | 5 | 4 | 3 | 4 | 3 | 4 | 4 | 4 |\n",
       "| 3 | 4 | 4 | 4 | 4 | 4 | 3 | 5 | 4 | 4 |\n",
       "| 5 | 4 | 4 | 3 | 4 | 2 | 4 | 3 | 4 | 4 |\n",
       "| 4 | 4 | 4 | 4 | 4 | 2 | 2 | 4 | 3 | 4 |\n",
       "| 5 | 5 | 5 | 5 | 5 | 5 | 5 | 5 | 5 | 5 |\n",
       "| 5 | 4 | 5 | 4 | 5 | 5 | 4 | 5 | 4 | 4 |\n",
       "| 2 | 4 | 4 | 4 | 3 | 1 | 1 | 2 | 2 | 4 |\n",
       "| 4 | 4 | 4 | 2 | 3 | 2 | 4 | 4 | 4 | 4 |\n",
       "| 5 | 5 | 5 | 5 | 4 | 4 | 4 | 2 | 4 | 5 |\n",
       "| 5 | 4 | 4 | 4 | 4 | 3 | 3 | 3 | 3 | 3 |\n",
       "| 5 | 2 | 4 | 3 | 4 | 4 | 2 | 4 | 2 | 5 |\n",
       "| 4 | 5 | 5 | 3 | 3 | 5 | 5 | 4 | 4 | 4 |\n",
       "| 5 | 5 | 5 | 5 | 5 | 3 | 4 | 4 | 4 | 4 |\n",
       "| 4 | 4 | 4 | 5 | 4 | 5 | 2 | 4 | 5 | 4 |\n",
       "| 4 | 4 | 4 | 4 | 4 | 4 | 4 | 4 | 4 | 4 |\n",
       "| 5 | 5 | 3 | 4 | 4 | 3 | 3 | 4 | 4 | 4 |\n",
       "| 5 | 5 | 5 | 4 | 4 | 2 | 4 | 4 | 4 | 4 |\n",
       "| 4 | 4 | 5 | 3 | 4 | 3 | 3 | 4 | 4 | 3 |\n",
       "| 4 | 4 | 4 | 4 | 4 | 4 | 4 | 4 | 4 | 4 |\n",
       "| 4 | 3 | 3 | 5 | 5 | 4 | 2 | 4 | 4 | 4 |\n",
       "| 5 | 5 | 5 | 5 | 5 | 5 | 5 | 5 | 5 | 5 |\n",
       "| 4 | 4 | 5 | 3 | 4 | 3 | 3 | 4 | 4 | 3 |\n",
       "\n"
      ],
      "text/plain": [
       "    Q1  Q2  Q3  Q4  Q5  Q6  Q7  Q8  Q9  Q10\n",
       "1   4   4   4   4   4   4   4   4   4   4  \n",
       "2   4   4   4   4   4   4   4   4   4   4  \n",
       "3   5   5   5   4   4   4   3   3   4   4  \n",
       "4   5   4   3   4   4   5   3   3   4   3  \n",
       "5   5   4   4   4   4   4   4   4   4   4  \n",
       "6   5   4   5   4   4   4   4   4   4   4  \n",
       "7   5   4   5   4   4   5   4   5   4   4  \n",
       "8   5   5   5   5   5   5   5   5   5   5  \n",
       "9   5   5   5   4   4   5   4   5   5   5  \n",
       "10  4   4   4   4   4   4   4   4   4   4  \n",
       "11  4   4   4   4   4   4   4   4   4   4  \n",
       "12  5   5   5   5   5   4   4   3   5   5  \n",
       "13  4   4   4   4   4   4   3   4   4   1  \n",
       "14  5   5   4   3   3   4   3   4   4   5  \n",
       "15  4   4   5   3   4   2   2   3   3   3  \n",
       "16  5   4   4   4   4   4   4   4   4   4  \n",
       "17  5   5   5   4   5   5   5   4   5   5  \n",
       "18  5   5   5   5   5   5   5   5   5   5  \n",
       "19  4   4   3   4   3   5   4   4   4   4  \n",
       "20  4   4   4   4   4   4   4   4   4   4  \n",
       "21  4   4   3   4   5   4   3   4   3   3  \n",
       "22  5   5   5   5   5   5   5   5   5   5  \n",
       "23  4   4   4   4   4   4   4   4   4   4  \n",
       "24  4   4   4   4   4   4   4   4   4   4  \n",
       "25  5   5   5   5   5   4   4   4   5   4  \n",
       "26  4   5   5   4   4   4   4   4   4   4  \n",
       "27  4   5   5   4   4   4   3   4   4   4  \n",
       "28  5   3   4   2   4   4   4   2   2   4  \n",
       "29  4   4   3   4   3   5   4   4   4   4  \n",
       "30  4   4   4   4   4   4   4   4   4   4  \n",
       "... ... ... ... ... ... ... ... ... ... ...\n",
       "471 4   4   4   4   4   4   4   4   4   4  \n",
       "472 3   5   5   5   5   2   2   4   4   4  \n",
       "473 5   5   4   5   4   4   4   4   5   4  \n",
       "474 3   4   4   3   4   4   3   4   4   4  \n",
       "475 4   4   3   3   4   3   2   3   2   2  \n",
       "476 5   5   5   5   5   5   5   5   5   5  \n",
       "477 5   5   5   4   5   3   3   3   4   5  \n",
       "478 4   4   4   5   5   5   5   5   5   5  \n",
       "479 4   5   5   4   3   4   3   4   4   4  \n",
       "480 3   4   4   4   4   4   3   5   4   4  \n",
       "481 5   4   4   3   4   2   4   3   4   4  \n",
       "482 4   4   4   4   4   2   2   4   3   4  \n",
       "483 5   5   5   5   5   5   5   5   5   5  \n",
       "484 5   4   5   4   5   5   4   5   4   4  \n",
       "485 2   4   4   4   3   1   1   2   2   4  \n",
       "486 4   4   4   2   3   2   4   4   4   4  \n",
       "487 5   5   5   5   4   4   4   2   4   5  \n",
       "488 5   4   4   4   4   3   3   3   3   3  \n",
       "489 5   2   4   3   4   4   2   4   2   5  \n",
       "490 4   5   5   3   3   5   5   4   4   4  \n",
       "491 5   5   5   5   5   3   4   4   4   4  \n",
       "492 4   4   4   5   4   5   2   4   5   4  \n",
       "493 4   4   4   4   4   4   4   4   4   4  \n",
       "494 5   5   3   4   4   3   3   4   4   4  \n",
       "495 5   5   5   4   4   2   4   4   4   4  \n",
       "496 4   4   5   3   4   3   3   4   4   3  \n",
       "497 4   4   4   4   4   4   4   4   4   4  \n",
       "498 4   3   3   5   5   4   2   4   4   4  \n",
       "499 5   5   5   5   5   5   5   5   5   5  \n",
       "500 4   4   5   3   4   3   3   4   4   3  "
      ]
     },
     "metadata": {},
     "output_type": "display_data"
    }
   ],
   "source": [
    "datasurvey"
   ]
  },
  {
   "cell_type": "code",
   "execution_count": null,
   "metadata": {},
   "outputs": [],
   "source": [
    "attach(datasurvey)"
   ]
  },
  {
   "cell_type": "code",
   "execution_count": 58,
   "metadata": {},
   "outputs": [],
   "source": [
    "# efine Variablessummary(x)\n",
    "x <- cbind(Q1,Q2,Q3,Q4,Q5,Q6,Q7,Q8,Q9,Q10)"
   ]
  },
  {
   "cell_type": "code",
   "execution_count": 59,
   "metadata": {},
   "outputs": [
    {
     "data": {
      "text/plain": [
       "       Q1              Q2             Q3              Q4             Q5       \n",
       " Min.   :1.000   Min.   :1.00   Min.   :1.000   Min.   :1.00   Min.   :1.000  \n",
       " 1st Qu.:4.000   1st Qu.:4.00   1st Qu.:4.000   1st Qu.:4.00   1st Qu.:4.000  \n",
       " Median :4.000   Median :4.00   Median :4.000   Median :4.00   Median :4.000  \n",
       " Mean   :4.292   Mean   :4.33   Mean   :4.244   Mean   :3.86   Mean   :3.982  \n",
       " 3rd Qu.:5.000   3rd Qu.:5.00   3rd Qu.:5.000   3rd Qu.:4.00   3rd Qu.:4.000  \n",
       " Max.   :5.000   Max.   :5.00   Max.   :5.000   Max.   :5.00   Max.   :5.000  \n",
       "       Q6              Q7              Q8              Q9       \n",
       " Min.   :1.000   Min.   :1.000   Min.   :1.000   Min.   :1.000  \n",
       " 1st Qu.:3.000   1st Qu.:3.000   1st Qu.:3.000   1st Qu.:4.000  \n",
       " Median :4.000   Median :4.000   Median :4.000   Median :4.000  \n",
       " Mean   :3.674   Mean   :3.496   Mean   :3.784   Mean   :3.954  \n",
       " 3rd Qu.:4.000   3rd Qu.:4.000   3rd Qu.:4.000   3rd Qu.:4.000  \n",
       " Max.   :5.000   Max.   :5.000   Max.   :5.000   Max.   :5.000  \n",
       "      Q10       \n",
       " Min.   :1.000  \n",
       " 1st Qu.:4.000  \n",
       " Median :4.000  \n",
       " Mean   :4.108  \n",
       " 3rd Qu.:4.000  \n",
       " Max.   :5.000  "
      ]
     },
     "metadata": {},
     "output_type": "display_data"
    },
    {
     "data": {
      "text/html": [
       "<table>\n",
       "<thead><tr><th></th><th scope=col>Q1</th><th scope=col>Q2</th><th scope=col>Q3</th><th scope=col>Q4</th><th scope=col>Q5</th><th scope=col>Q6</th><th scope=col>Q7</th><th scope=col>Q8</th><th scope=col>Q9</th><th scope=col>Q10</th></tr></thead>\n",
       "<tbody>\n",
       "\t<tr><th scope=row>Q1</th><td>1.0000000</td><td>0.4050798</td><td>0.4257923</td><td>0.4522012</td><td>0.4693113</td><td>0.4069258</td><td>0.4786539</td><td>0.3864669</td><td>0.3781172</td><td>0.4924749</td></tr>\n",
       "\t<tr><th scope=row>Q2</th><td>0.4050798</td><td>1.0000000</td><td>0.6492208</td><td>0.4685826</td><td>0.4681348</td><td>0.2633589</td><td>0.3819102</td><td>0.3337100</td><td>0.4904494</td><td>0.4329908</td></tr>\n",
       "\t<tr><th scope=row>Q3</th><td>0.4257923</td><td>0.6492208</td><td>1.0000000</td><td>0.4718074</td><td>0.4996827</td><td>0.3487295</td><td>0.3831009</td><td>0.4415681</td><td>0.4443380</td><td>0.4724015</td></tr>\n",
       "\t<tr><th scope=row>Q4</th><td>0.4522012</td><td>0.4685826</td><td>0.4718074</td><td>1.0000000</td><td>0.5409508</td><td>0.4577199</td><td>0.4540685</td><td>0.4580557</td><td>0.5484912</td><td>0.4285152</td></tr>\n",
       "\t<tr><th scope=row>Q5</th><td>0.4693113</td><td>0.4681348</td><td>0.4996827</td><td>0.5409508</td><td>1.0000000</td><td>0.4098306</td><td>0.3614414</td><td>0.3655721</td><td>0.4828599</td><td>0.4379833</td></tr>\n",
       "\t<tr><th scope=row>Q6</th><td>0.4069258</td><td>0.2633589</td><td>0.3487295</td><td>0.4577199</td><td>0.4098306</td><td>1.0000000</td><td>0.6145128</td><td>0.5147971</td><td>0.5557026</td><td>0.3961426</td></tr>\n",
       "\t<tr><th scope=row>Q7</th><td>0.4786539</td><td>0.3819102</td><td>0.3831009</td><td>0.4540685</td><td>0.3614414</td><td>0.6145128</td><td>1.0000000</td><td>0.5729292</td><td>0.5905553</td><td>0.4457942</td></tr>\n",
       "\t<tr><th scope=row>Q8</th><td>0.3864669</td><td>0.3337100</td><td>0.4415681</td><td>0.4580557</td><td>0.3655721</td><td>0.5147971</td><td>0.5729292</td><td>1.0000000</td><td>0.5176080</td><td>0.4574640</td></tr>\n",
       "\t<tr><th scope=row>Q9</th><td>0.3781172</td><td>0.4904494</td><td>0.4443380</td><td>0.5484912</td><td>0.4828599</td><td>0.5557026</td><td>0.5905553</td><td>0.5176080</td><td>1.0000000</td><td>0.4959666</td></tr>\n",
       "\t<tr><th scope=row>Q10</th><td>0.4924749</td><td>0.4329908</td><td>0.4724015</td><td>0.4285152</td><td>0.4379833</td><td>0.3961426</td><td>0.4457942</td><td>0.4574640</td><td>0.4959666</td><td>1.0000000</td></tr>\n",
       "</tbody>\n",
       "</table>\n"
      ],
      "text/latex": [
       "\\begin{tabular}{r|llllllllll}\n",
       "  & Q1 & Q2 & Q3 & Q4 & Q5 & Q6 & Q7 & Q8 & Q9 & Q10\\\\\n",
       "\\hline\n",
       "\tQ1 & 1.0000000 & 0.4050798 & 0.4257923 & 0.4522012 & 0.4693113 & 0.4069258 & 0.4786539 & 0.3864669 & 0.3781172 & 0.4924749\\\\\n",
       "\tQ2 & 0.4050798 & 1.0000000 & 0.6492208 & 0.4685826 & 0.4681348 & 0.2633589 & 0.3819102 & 0.3337100 & 0.4904494 & 0.4329908\\\\\n",
       "\tQ3 & 0.4257923 & 0.6492208 & 1.0000000 & 0.4718074 & 0.4996827 & 0.3487295 & 0.3831009 & 0.4415681 & 0.4443380 & 0.4724015\\\\\n",
       "\tQ4 & 0.4522012 & 0.4685826 & 0.4718074 & 1.0000000 & 0.5409508 & 0.4577199 & 0.4540685 & 0.4580557 & 0.5484912 & 0.4285152\\\\\n",
       "\tQ5 & 0.4693113 & 0.4681348 & 0.4996827 & 0.5409508 & 1.0000000 & 0.4098306 & 0.3614414 & 0.3655721 & 0.4828599 & 0.4379833\\\\\n",
       "\tQ6 & 0.4069258 & 0.2633589 & 0.3487295 & 0.4577199 & 0.4098306 & 1.0000000 & 0.6145128 & 0.5147971 & 0.5557026 & 0.3961426\\\\\n",
       "\tQ7 & 0.4786539 & 0.3819102 & 0.3831009 & 0.4540685 & 0.3614414 & 0.6145128 & 1.0000000 & 0.5729292 & 0.5905553 & 0.4457942\\\\\n",
       "\tQ8 & 0.3864669 & 0.3337100 & 0.4415681 & 0.4580557 & 0.3655721 & 0.5147971 & 0.5729292 & 1.0000000 & 0.5176080 & 0.4574640\\\\\n",
       "\tQ9 & 0.3781172 & 0.4904494 & 0.4443380 & 0.5484912 & 0.4828599 & 0.5557026 & 0.5905553 & 0.5176080 & 1.0000000 & 0.4959666\\\\\n",
       "\tQ10 & 0.4924749 & 0.4329908 & 0.4724015 & 0.4285152 & 0.4379833 & 0.3961426 & 0.4457942 & 0.4574640 & 0.4959666 & 1.0000000\\\\\n",
       "\\end{tabular}\n"
      ],
      "text/markdown": [
       "\n",
       "| <!--/--> | Q1 | Q2 | Q3 | Q4 | Q5 | Q6 | Q7 | Q8 | Q9 | Q10 |\n",
       "|---|---|---|---|---|---|---|---|---|---|---|\n",
       "| Q1 | 1.0000000 | 0.4050798 | 0.4257923 | 0.4522012 | 0.4693113 | 0.4069258 | 0.4786539 | 0.3864669 | 0.3781172 | 0.4924749 |\n",
       "| Q2 | 0.4050798 | 1.0000000 | 0.6492208 | 0.4685826 | 0.4681348 | 0.2633589 | 0.3819102 | 0.3337100 | 0.4904494 | 0.4329908 |\n",
       "| Q3 | 0.4257923 | 0.6492208 | 1.0000000 | 0.4718074 | 0.4996827 | 0.3487295 | 0.3831009 | 0.4415681 | 0.4443380 | 0.4724015 |\n",
       "| Q4 | 0.4522012 | 0.4685826 | 0.4718074 | 1.0000000 | 0.5409508 | 0.4577199 | 0.4540685 | 0.4580557 | 0.5484912 | 0.4285152 |\n",
       "| Q5 | 0.4693113 | 0.4681348 | 0.4996827 | 0.5409508 | 1.0000000 | 0.4098306 | 0.3614414 | 0.3655721 | 0.4828599 | 0.4379833 |\n",
       "| Q6 | 0.4069258 | 0.2633589 | 0.3487295 | 0.4577199 | 0.4098306 | 1.0000000 | 0.6145128 | 0.5147971 | 0.5557026 | 0.3961426 |\n",
       "| Q7 | 0.4786539 | 0.3819102 | 0.3831009 | 0.4540685 | 0.3614414 | 0.6145128 | 1.0000000 | 0.5729292 | 0.5905553 | 0.4457942 |\n",
       "| Q8 | 0.3864669 | 0.3337100 | 0.4415681 | 0.4580557 | 0.3655721 | 0.5147971 | 0.5729292 | 1.0000000 | 0.5176080 | 0.4574640 |\n",
       "| Q9 | 0.3781172 | 0.4904494 | 0.4443380 | 0.5484912 | 0.4828599 | 0.5557026 | 0.5905553 | 0.5176080 | 1.0000000 | 0.4959666 |\n",
       "| Q10 | 0.4924749 | 0.4329908 | 0.4724015 | 0.4285152 | 0.4379833 | 0.3961426 | 0.4457942 | 0.4574640 | 0.4959666 | 1.0000000 |\n",
       "\n"
      ],
      "text/plain": [
       "    Q1        Q2        Q3        Q4        Q5        Q6        Q7       \n",
       "Q1  1.0000000 0.4050798 0.4257923 0.4522012 0.4693113 0.4069258 0.4786539\n",
       "Q2  0.4050798 1.0000000 0.6492208 0.4685826 0.4681348 0.2633589 0.3819102\n",
       "Q3  0.4257923 0.6492208 1.0000000 0.4718074 0.4996827 0.3487295 0.3831009\n",
       "Q4  0.4522012 0.4685826 0.4718074 1.0000000 0.5409508 0.4577199 0.4540685\n",
       "Q5  0.4693113 0.4681348 0.4996827 0.5409508 1.0000000 0.4098306 0.3614414\n",
       "Q6  0.4069258 0.2633589 0.3487295 0.4577199 0.4098306 1.0000000 0.6145128\n",
       "Q7  0.4786539 0.3819102 0.3831009 0.4540685 0.3614414 0.6145128 1.0000000\n",
       "Q8  0.3864669 0.3337100 0.4415681 0.4580557 0.3655721 0.5147971 0.5729292\n",
       "Q9  0.3781172 0.4904494 0.4443380 0.5484912 0.4828599 0.5557026 0.5905553\n",
       "Q10 0.4924749 0.4329908 0.4724015 0.4285152 0.4379833 0.3961426 0.4457942\n",
       "    Q8        Q9        Q10      \n",
       "Q1  0.3864669 0.3781172 0.4924749\n",
       "Q2  0.3337100 0.4904494 0.4329908\n",
       "Q3  0.4415681 0.4443380 0.4724015\n",
       "Q4  0.4580557 0.5484912 0.4285152\n",
       "Q5  0.3655721 0.4828599 0.4379833\n",
       "Q6  0.5147971 0.5557026 0.3961426\n",
       "Q7  0.5729292 0.5905553 0.4457942\n",
       "Q8  1.0000000 0.5176080 0.4574640\n",
       "Q9  0.5176080 1.0000000 0.4959666\n",
       "Q10 0.4574640 0.4959666 1.0000000"
      ]
     },
     "metadata": {},
     "output_type": "display_data"
    }
   ],
   "source": [
    "# Descriptive statistics\n",
    "summary(x)\n",
    "cor(x)"
   ]
  },
  {
   "cell_type": "code",
   "execution_count": 60,
   "metadata": {},
   "outputs": [],
   "source": [
    "# Principal Component Analysis\n",
    "pcal <-princomp(x, score=TRUE, cor=TRUE)"
   ]
  },
  {
   "cell_type": "code",
   "execution_count": 61,
   "metadata": {},
   "outputs": [
    {
     "data": {
      "text/plain": [
       "\n",
       "Loadings:\n",
       "    Comp.1 Comp.2 Comp.3 Comp.4 Comp.5 Comp.6 Comp.7 Comp.8 Comp.9 Comp.10\n",
       "Q1   0.300         0.748         0.401         0.173  0.100  0.367        \n",
       "Q2   0.301  0.493 -0.316  0.178  0.269  0.277                      -0.606 \n",
       "Q3   0.317  0.415 -0.234  0.244  0.188 -0.274 -0.296 -0.335         0.548 \n",
       "Q4   0.328               -0.490        -0.195  0.661 -0.368 -0.163        \n",
       "Q5   0.311  0.260  0.184 -0.555 -0.189 -0.135 -0.460  0.422 -0.224        \n",
       "Q6   0.307 -0.468        -0.202  0.150        -0.451 -0.530  0.154 -0.326 \n",
       "Q7   0.328 -0.401         0.170  0.339  0.234         0.221 -0.647  0.244 \n",
       "Q8   0.312 -0.314 -0.188  0.292 -0.118 -0.694         0.317  0.159 -0.233 \n",
       "Q9   0.343 -0.154 -0.334 -0.127 -0.227  0.454  0.103  0.279  0.531  0.321 \n",
       "Q10  0.312         0.317  0.426 -0.698  0.202        -0.217 -0.190        \n",
       "\n",
       "               Comp.1 Comp.2 Comp.3 Comp.4 Comp.5 Comp.6 Comp.7 Comp.8 Comp.9\n",
       "SS loadings       1.0    1.0    1.0    1.0    1.0    1.0    1.0    1.0    1.0\n",
       "Proportion Var    0.1    0.1    0.1    0.1    0.1    0.1    0.1    0.1    0.1\n",
       "Cumulative Var    0.1    0.2    0.3    0.4    0.5    0.6    0.7    0.8    0.9\n",
       "               Comp.10\n",
       "SS loadings        1.0\n",
       "Proportion Var     0.1\n",
       "Cumulative Var     1.0"
      ]
     },
     "metadata": {},
     "output_type": "display_data"
    }
   ],
   "source": [
    "# Loading of Principal Components\n",
    "loadings(pcal)"
   ]
  },
  {
   "cell_type": "markdown",
   "metadata": {},
   "source": [
    "# Scree plot of eigenvalues\n"
   ]
  },
  {
   "cell_type": "code",
   "execution_count": 62,
   "metadata": {},
   "outputs": [
    {
     "data": {
      "image/png": "[encoded data removed]",
      "text/plain": [
       "Plot with title \"pcal\""
      ]
     },
     "metadata": {},
     "output_type": "display_data"
    },
    {
     "data": {
      "image/png": "[encoded data removed]",
      "text/plain": [
       "Plot with title \"scree plot\""
      ]
     },
     "metadata": {},
     "output_type": "display_data"
    }
   ],
   "source": [
    "plot(pcal)\n",
    "screeplot(pcal, type=\"line\", main=\"scree plot\")"
   ]
  },
  {
   "cell_type": "markdown",
   "metadata": {},
   "source": [
    "<p><strong>Berdasarkan Grafik di atas Komponen 1 memiliki nilai yang lebih tinggi ketimbang 9 Komponen lainnya. Komponen 1 bernilai lebih dari 5, sedangkan Komponen 2 bernilai 1, dan Komponen lainnya bernilai di bawah 1</strong></p>"
   ]
  },
  {
   "cell_type": "markdown",
   "metadata": {},
   "source": [
    "# Biplot of score variables\n"
   ]
  },
  {
   "cell_type": "code",
   "execution_count": 63,
   "metadata": {},
   "outputs": [
    {
     "data": {
      "image/png": "[encoded data removed]",
      "text/plain": [
       "plot without title"
      ]
     },
     "metadata": {},
     "output_type": "display_data"
    }
   ],
   "source": [
    "biplot(pcal)"
   ]
  },
  {
   "cell_type": "markdown",
   "metadata": {},
   "source": [
    "<p>Dalam grafik acuan alternatif nilai Komponen 1 (sebagai sumbu x) dan Komponen 2 (sebagai sumbu y) dapat disimpulkan bahwa :</p>\n",
    "<p>1. Q1, Q4, dan Q10 saling berhubungan satu sama lain</p>\n",
    "<p>2. Q1, Q4, dan Q10 cukup berhubungan dengan Q2, Q3, Q5, Q6, Q7, Q8, Q9</p>"
   ]
  }
 ],
 "metadata": {
  "hide_input": true,
  "kernelspec": {
   "display_name": "Python 3",
   "language": "python",
   "name": "python3"
  },
  "language_info": {
   "codemirror_mode": {
    "name": "ipython",
    "version": 3
   },
   "file_extension": ".py",
   "mimetype": "text/x-python",
   "name": "python",
   "nbconvert_exporter": "python",
   "pygments_lexer": "ipython3",
   "version": "3.7.7"
  }
 },
 "nbformat": 4,
 "nbformat_minor": 4
}
